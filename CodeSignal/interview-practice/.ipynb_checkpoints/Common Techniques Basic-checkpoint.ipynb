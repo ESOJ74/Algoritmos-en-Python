{
 "cells": [
  {
   "cell_type": "markdown",
   "id": "78fd7b2b",
   "metadata": {},
   "source": [
    "### containsDuplicates"
   ]
  },
  {
   "cell_type": "code",
   "execution_count": 1,
   "id": "1121409d",
   "metadata": {},
   "outputs": [],
   "source": [
    "def containsDuplicates(a):\n",
    "    con = set()\n",
    "    for n in a:\n",
    "        con.add(n)\n",
    "    return len(a) != len(con)"
   ]
  },
  {
   "cell_type": "code",
   "execution_count": 16,
   "id": "0a039c99",
   "metadata": {},
   "outputs": [],
   "source": [
    "def containsDuplicates(a):\n",
    "    return len(a) != len(set(a))"
   ]
  },
  {
   "cell_type": "code",
   "execution_count": 18,
   "id": "259ee8a4",
   "metadata": {},
   "outputs": [
    {
     "data": {
      "text/plain": [
       "True"
      ]
     },
     "execution_count": 18,
     "metadata": {},
     "output_type": "execute_result"
    }
   ],
   "source": [
    "a = [1, 2, 3, 1]\n",
    "containsDuplicates(a)"
   ]
  },
  {
   "cell_type": "markdown",
   "id": "a6732b8a",
   "metadata": {},
   "source": [
    "### sumOfTwo"
   ]
  },
  {
   "cell_type": "code",
   "execution_count": 23,
   "id": "894122a0",
   "metadata": {},
   "outputs": [],
   "source": [
    "def sumOfTwo(a, b, v):\n",
    "    for a_num in a:\n",
    "        for b_num in b:\n",
    "            if a_num+b_num==v:\n",
    "                return True\n",
    "    return False"
   ]
  },
  {
   "cell_type": "code",
   "execution_count": 10,
   "id": "00c81b50",
   "metadata": {},
   "outputs": [],
   "source": [
    "def sumOfTwo(a, b, v):\n",
    "    #No need to iterate a huge list, if the other list is empty\n",
    "    if not a or not b:\n",
    "        return False\n",
    "    \n",
    "    #kill duplicates\n",
    "    b = set(b)\n",
    "    a = set(a)\n",
    "    \n",
    "    #iterate through list a to look if the wanted difference is in b\n",
    "    for x in a:\n",
    "        if (v-x) in b:\n",
    "            return True\n",
    "    return False"
   ]
  },
  {
   "cell_type": "code",
   "execution_count": 14,
   "id": "309b0842",
   "metadata": {},
   "outputs": [],
   "source": [
    "def sumOfTwo(a,b,v):\n",
    "    b = set(b)\n",
    "    a = set(a)\n",
    "    return any(v - x in b for x in a)"
   ]
  },
  {
   "cell_type": "code",
   "execution_count": 15,
   "id": "9b90584f",
   "metadata": {},
   "outputs": [
    {
     "data": {
      "text/plain": [
       "True"
      ]
     },
     "execution_count": 15,
     "metadata": {},
     "output_type": "execute_result"
    }
   ],
   "source": [
    "a = [1, 2, 3]\n",
    "b = [10, 20, 30, 40]\n",
    "v = 42\n",
    "sumOfTwo(a, b, v)"
   ]
  },
  {
   "cell_type": "markdown",
   "id": "7ecaa960",
   "metadata": {},
   "source": [
    "### sumInRange"
   ]
  },
  {
   "cell_type": "code",
   "execution_count": 25,
   "id": "4703c45c",
   "metadata": {},
   "outputs": [],
   "source": [
    "def sumInRange(nums, queries):\n",
    "    res = [sum(nums[q[0]:q[1]+1]) for q in queries]\n",
    "    return sum(res) % 1000000007"
   ]
  },
  {
   "cell_type": "code",
   "execution_count": 27,
   "id": "f2fdb384",
   "metadata": {},
   "outputs": [],
   "source": [
    "from itertools import accumulate\n",
    "def sumInRange(n, q):\n",
    "    a ,res = tuple(accumulate([0]+n)),0\n",
    "    for i,j in q:res += a[j+1]-a[i] \n",
    "    return res % 1000000007"
   ]
  },
  {
   "cell_type": "code",
   "execution_count": null,
   "id": "95531a60",
   "metadata": {},
   "outputs": [],
   "source": [
    "def sumInRange(nums, queries):\n",
    "    sum_at = [0] * len(nums)\n",
    "    \n",
    "    total = 0\n",
    "    for i, x in enumerate(nums):\n",
    "        total += nums[i]\n",
    "        sum_at[i] = total \n",
    "    \n",
    "    ans = [0] * len(nums)\n",
    "    for i, q in enumerate(queries):\n",
    "        start, end = q[0], q[1]\n",
    "        if start == 0: \n",
    "            ans[i] = sum_at[end]\n",
    "        else:\n",
    "            ans[i] = sum_at[end] - sum_at[start - 1]\n",
    "\n",
    "    return sum(ans) % (10**9 + 7) #read the whole problem!"
   ]
  },
  {
   "cell_type": "code",
   "execution_count": 23,
   "id": "40d0febf",
   "metadata": {},
   "outputs": [],
   "source": [
    "def sumInRange(nums, queries):\n",
    "    res = []\n",
    "    for q in queries:\n",
    "        res.append(sum(nums[q[0]:q[1]+1]))\n",
    "    return sum(res) % 1000000007"
   ]
  },
  {
   "cell_type": "code",
   "execution_count": 51,
   "id": "42b460fb",
   "metadata": {},
   "outputs": [],
   "source": [
    "def sumInRange(nums, queries):\n",
    "    res = [nums[0]]\n",
    "    for i in range(1, len(nums)):\n",
    "        res.append(res[-1] + nums[i])\n",
    "    return sum(res[j] - res[i-1]*(i!=0) for i, j in queries) % 1000000007"
   ]
  },
  {
   "cell_type": "code",
   "execution_count": 52,
   "id": "7bcfe163",
   "metadata": {},
   "outputs": [
    {
     "data": {
      "text/plain": [
       "10"
      ]
     },
     "execution_count": 52,
     "metadata": {},
     "output_type": "execute_result"
    }
   ],
   "source": [
    "nums = [3, 0, -2, 6, -3, 2] \n",
    "queries = [[0, 2], [2, 5], [0, 5]]\n",
    "sumInRange(nums, queries)"
   ]
  },
  {
   "cell_type": "markdown",
   "id": "f806e660",
   "metadata": {},
   "source": [
    "### arrayMaxConsecutiveSum2"
   ]
  },
  {
   "cell_type": "code",
   "execution_count": 53,
   "id": "e330d491",
   "metadata": {},
   "outputs": [],
   "source": [
    "def arrayMaxConsecutiveSum2(inputArray):\n",
    "    maxsum = inputArray[0]\n",
    "    l = len(inputArray)\n",
    "    cumsum = inputArray[0]\n",
    "    for i in range(1, l):\n",
    "        cumsum += inputArray[i]\n",
    "        if inputArray[i] > cumsum:\n",
    "            cumsum = inputArray[i]\n",
    "        maxsum = max(maxsum, cumsum)\n",
    "    return maxsum"
   ]
  },
  {
   "cell_type": "code",
   "execution_count": 54,
   "id": "c0110510",
   "metadata": {},
   "outputs": [],
   "source": [
    "def arrayMaxConsecutiveSum2(inputArray):\n",
    "    m = [inputArray[0]]\n",
    "    for n in inputArray[1:]: m.append(n if m[-1] < 0 else n + m[-1])\n",
    "    return max(m)"
   ]
  },
  {
   "cell_type": "code",
   "execution_count": 70,
   "id": "b86a230a",
   "metadata": {},
   "outputs": [],
   "source": [
    "def arrayMaxConsecutiveSum2(inputArray):\n",
    "    i = 1\n",
    "    while i < len(inputArray):\n",
    "        inputArray[i] = max(inputArray[i], inputArray[i] + inputArray[i-1])\n",
    "        i+=1\n",
    "    print(inputArray)\n",
    "    return max(inputArray)"
   ]
  },
  {
   "cell_type": "code",
   "execution_count": 56,
   "id": "1e1b61d5",
   "metadata": {},
   "outputs": [],
   "source": [
    "def arrayMaxConsecutiveSum2(inputArray):\n",
    "    max_sum, curr_sum = float(\"-inf\"), 0\n",
    "    for a in A:\n",
    "        curr_sum += a\n",
    "        max_sum = max(max_sum, curr_sum)\n",
    "        if curr_sum < 0:\n",
    "            curr_sum = 0\n",
    "    return max_sum"
   ]
  },
  {
   "cell_type": "code",
   "execution_count": 80,
   "id": "21e48c7e",
   "metadata": {},
   "outputs": [],
   "source": [
    "def arrayMaxConsecutiveSum2(inputArray):    \n",
    "    inputArray = [max(inputArray[i], inputArray[i] + inputArray[i-1]) for i in range(1,len(inputArray))  ]\n",
    "    return max(inputArray)"
   ]
  },
  {
   "cell_type": "code",
   "execution_count": 81,
   "id": "8a6d91e0",
   "metadata": {},
   "outputs": [
    {
     "data": {
      "text/plain": [
       "7"
      ]
     },
     "execution_count": 81,
     "metadata": {},
     "output_type": "execute_result"
    }
   ],
   "source": [
    "inputArray = [-2, 2, 5, -11, 6]\n",
    "arrayMaxConsecutiveSum2(inputArray)"
   ]
  },
  {
   "cell_type": "code",
   "execution_count": null,
   "id": "25ba687f",
   "metadata": {},
   "outputs": [],
   "source": []
  }
 ],
 "metadata": {
  "kernelspec": {
   "display_name": "Python 3",
   "language": "python",
   "name": "python3"
  },
  "language_info": {
   "codemirror_mode": {
    "name": "ipython",
    "version": 3
   },
   "file_extension": ".py",
   "mimetype": "text/x-python",
   "name": "python",
   "nbconvert_exporter": "python",
   "pygments_lexer": "ipython3",
   "version": "3.8.10"
  }
 },
 "nbformat": 4,
 "nbformat_minor": 5
}
