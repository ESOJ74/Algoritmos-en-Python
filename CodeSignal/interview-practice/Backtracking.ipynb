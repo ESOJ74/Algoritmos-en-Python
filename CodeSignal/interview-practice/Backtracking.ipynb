{
 "cells": [
  {
   "cell_type": "markdown",
   "id": "72f45328",
   "metadata": {},
   "source": [
    "### climbingStaircase"
   ]
  },
  {
   "cell_type": "code",
   "execution_count": 2,
   "id": "e239d058",
   "metadata": {},
   "outputs": [],
   "source": [
    "def climbingStaircase(n, k):\n",
    "    res = [[1 for i in range(n)]]\n",
    "    return res"
   ]
  },
  {
   "cell_type": "code",
   "execution_count": 4,
   "id": "b5f350b2",
   "metadata": {},
   "outputs": [],
   "source": [
    "def climbingStaircase(n, k):    \n",
    "    return climb(n, k, [])    \n",
    "        \n",
    "        \n",
    "def climb(n, k, jumps):    \n",
    "    if n == 0:\n",
    "        return [jumps]\n",
    "    \n",
    "    out = []\n",
    "    \n",
    "    for i in range(1, k+1):        \n",
    "        if i > n:\n",
    "            continue\n",
    "        \n",
    "        temp = jumps + [i]        \n",
    "        out += climb(n-i, k, temp)\n",
    "        \n",
    "    return out"
   ]
  },
  {
   "cell_type": "code",
   "execution_count": 10,
   "id": "eb24aa38",
   "metadata": {},
   "outputs": [],
   "source": [
    "def climbingStaircase(n, k):\n",
    "    \n",
    "    ret = []\n",
    "    _climbingStaircase(n, k, [], ret)\n",
    "    return ret\n",
    "    \n",
    "def _climbingStaircase(n, k, seq, ret):\n",
    "    if not n:\n",
    "        ret.append(seq)\n",
    "    \n",
    "    for i in range(1, k + 1):\n",
    "        if n >= i:\n",
    "            _climbingStaircase(n - i, k, seq + [i], ret)"
   ]
  },
  {
   "cell_type": "code",
   "execution_count": 8,
   "id": "c986431f",
   "metadata": {},
   "outputs": [],
   "source": [
    "def climbingStaircase(n, k):\n",
    "    if n < 0: return []\n",
    "    if n == 0: return [[]]\n",
    "    ans = []\n",
    "    for i in range(1, k+1):\n",
    "        for seq in climbingStaircase(n-i, k):\n",
    "            ans.append([i] + seq)\n",
    "    return ans"
   ]
  },
  {
   "cell_type": "code",
   "execution_count": null,
   "id": "3ffaebf0",
   "metadata": {},
   "outputs": [],
   "source": [
    "def climbingStaircase(n, k):\n",
    "    memo = {0: [[]]}\n",
    "    def f(n):\n",
    "        if n in memo:\n",
    "            return memo[n]\n",
    "        ans = []\n",
    "        for x in xrange(1, min(n,k) + 1):\n",
    "            for y in f(n - x):\n",
    "                ans.append([x] + y)\n",
    "        memo[n] = ans\n",
    "        return ans\n",
    "    return f(n)"
   ]
  },
  {
   "cell_type": "code",
   "execution_count": 18,
   "id": "077329c7",
   "metadata": {},
   "outputs": [],
   "source": [
    "def climbingStaircase(n, k):\n",
    "    if n < 0: return []\n",
    "    if n == 0: return [[]]\n",
    "    return [([i] + seq) for i in range(1, k+1) for seq in climbingStaircase(n-i, k)]"
   ]
  },
  {
   "cell_type": "code",
   "execution_count": 19,
   "id": "5386a495",
   "metadata": {},
   "outputs": [
    {
     "data": {
      "text/plain": [
       "[[1, 1, 1, 1], [1, 1, 2], [1, 2, 1], [2, 1, 1], [2, 2]]"
      ]
     },
     "execution_count": 19,
     "metadata": {},
     "output_type": "execute_result"
    }
   ],
   "source": [
    "n = 4\n",
    "k = 2\n",
    "climbingStaircase(n, k)"
   ]
  },
  {
   "cell_type": "markdown",
   "id": "26adff4d",
   "metadata": {},
   "source": [
    "### nQueens"
   ]
  },
  {
   "cell_type": "code",
   "execution_count": 36,
   "id": "feff1061",
   "metadata": {},
   "outputs": [],
   "source": [
    "def nQueens(N):\n",
    "    ans = []\n",
    "    def search(cols = []):\n",
    "        if len(cols) == N:\n",
    "            ans.append(cols)\n",
    "            return\n",
    "        for y in range(1, N+1):\n",
    "            if y not in cols:\n",
    "                if not any( y+len(cols) == x+i or y-len(cols) == x-i for i,x in enumerate(cols) ):\n",
    "                    search(cols + [y])\n",
    "                    \n",
    "    search()\n",
    "    return ans"
   ]
  },
  {
   "cell_type": "code",
   "execution_count": 50,
   "id": "a99991cc",
   "metadata": {},
   "outputs": [],
   "source": [
    "def nQueens(n, state=[], col=1):\n",
    "    if col > n: \n",
    "        return [state]\n",
    "    res = []\n",
    "    for i in range(1, n+1):\n",
    "        if invalid(state, i): \n",
    "            continue\n",
    "        for sol in nQueens(n, state + [i], col+1): \n",
    "            res += [sol]\n",
    "    return res\n",
    "\n",
    "def invalid(s, r2):\n",
    "    if not s: \n",
    "        return False\n",
    "    if r2 in s: \n",
    "        return True\n",
    "    c2 = len(s) + 1\n",
    "    return any(abs(c1-c2) == abs(r1-r2) for c1, r1 in enumerate(s,1))"
   ]
  },
  {
   "cell_type": "code",
   "execution_count": 51,
   "id": "1f80c83f",
   "metadata": {},
   "outputs": [
    {
     "data": {
      "text/plain": [
       "[[2, 4, 1, 3], [3, 1, 4, 2]]"
      ]
     },
     "execution_count": 51,
     "metadata": {},
     "output_type": "execute_result"
    }
   ],
   "source": [
    "n = 4\n",
    "nQueens(n)  "
   ]
  },
  {
   "cell_type": "markdown",
   "id": "8e0d2d53",
   "metadata": {},
   "source": [
    "### sumSubsets"
   ]
  },
  {
   "cell_type": "code",
   "execution_count": 58,
   "id": "f5b7971b",
   "metadata": {},
   "outputs": [],
   "source": [
    "def sumSubsets(arr, num):\n",
    "    ans = [set() for _ in range(num+1)]\n",
    "    ans[0].add(())\n",
    "    for n in arr:\n",
    "        for m in range(num, n-1, -1):\n",
    "            if ans[m-n]:\n",
    "                for x in ans[m-n]:\n",
    "                    ans[m].add(x+(n, ))\n",
    "    ans = sorted(list(ans[num]))\n",
    "    return ans"
   ]
  },
  {
   "cell_type": "code",
   "execution_count": 64,
   "id": "dca2191e",
   "metadata": {},
   "outputs": [],
   "source": [
    "def sumSubsets(arr, num):\n",
    "    result = set()\n",
    "    \n",
    "    def fun_add(arr_i, target, subset):\n",
    "        if target == 0:\n",
    "            result.add(subset)\n",
    "        elif arr_i >= len(arr) or target < 0:\n",
    "            return\n",
    "        else:\n",
    "            n = arr[arr_i]\n",
    "            fun_add(arr_i+1, target-n, subset+(n,))\n",
    "            fun_add(arr_i+1, target, subset)\n",
    "    \n",
    "    fun_add(0, num, ())\n",
    "    return sorted(list(result))"
   ]
  },
  {
   "cell_type": "code",
   "execution_count": 89,
   "id": "602fdfb4",
   "metadata": {},
   "outputs": [],
   "source": [
    "def sumSubsets(arr, num, s=[]):\n",
    "    if num == 0:\n",
    "        return [s]\n",
    "    if num < 0:\n",
    "        return []\n",
    "    if len(arr) == 0:\n",
    "        return []\n",
    "    return sorted(list(set(\n",
    "        [tuple(x) for x in sumSubsets(\n",
    "            arr[1:],num-arr[0],s + [arr[0]]\n",
    "        ) + sumSubsets(arr[1:],num,s)\n",
    "        ])))"
   ]
  },
  {
   "cell_type": "code",
   "execution_count": null,
   "id": "1cfd63fa",
   "metadata": {},
   "outputs": [],
   "source": [
    "def sumSubsets(arr, num, s=[]):\n",
    "    if num == 0:\n",
    "        return [s]\n",
    "    if num < 0:\n",
    "        return []\n",
    "    if len(arr) == 0:\n",
    "        return []\n",
    "    return sorted(list(set(\n",
    "        [tuple(x) for x in sumSubsets(\n",
    "            arr[1:],num-arr[0],s + [arr[0]]\n",
    "        ) + sumSubsets(arr[1:],num,s)\n",
    "        ])))"
   ]
  },
  {
   "cell_type": "code",
   "execution_count": 90,
   "id": "ab46f30b",
   "metadata": {},
   "outputs": [
    {
     "data": {
      "text/plain": [
       "[(1, 4), (2, 3), (5,)]"
      ]
     },
     "execution_count": 90,
     "metadata": {},
     "output_type": "execute_result"
    }
   ],
   "source": [
    "arr = [1, 2, 3, 4, 5] \n",
    "num = 5\n",
    "sumSubsets(arr, num)"
   ]
  },
  {
   "cell_type": "markdown",
   "id": "7dbe58d2",
   "metadata": {},
   "source": [
    "### wordBoggle"
   ]
  },
  {
   "cell_type": "code",
   "execution_count": 91,
   "id": "ceb554d9",
   "metadata": {},
   "outputs": [],
   "source": [
    "def wordBoggle(board, words):\n",
    "    r = []\n",
    "    for word in words:\n",
    "        if canBoggle(board,word):\n",
    "            r.append(word)\n",
    "    return sorted(r)\n",
    "\n",
    "def canBoggle(board, word, used = []):\n",
    "    if len(word) == 0:\n",
    "        return True\n",
    "    for i in range(len(board)):\n",
    "        for j in range(len(board[0])):\n",
    "            if (i,j) not in used and board[i][j] == word[0]:\n",
    "                if len(used)==0 or (abs(used[-1][0] - i)<=1 and abs(used[-1][1] - j)<= 1):\n",
    "                    if canBoggle(board,word[1:],used + [(i,j)]):\n",
    "                        return True\n",
    "    return False    "
   ]
  },
  {
   "cell_type": "code",
   "execution_count": 92,
   "id": "dba48550",
   "metadata": {},
   "outputs": [
    {
     "data": {
      "text/plain": [
       "['CODE', 'RULES']"
      ]
     },
     "execution_count": 92,
     "metadata": {},
     "output_type": "execute_result"
    }
   ],
   "source": [
    "board = [\n",
    "    ['R', 'L', 'D'],\n",
    "    ['U', 'O', 'E'],\n",
    "    ['C', 'S', 'O']\n",
    "]\n",
    "words = [\"CODE\", \"SOLO\", \"RULES\", \"COOL\"]\n",
    "wordBoggle(board, words) "
   ]
  },
  {
   "cell_type": "markdown",
   "id": "e183d58e",
   "metadata": {},
   "source": [
    "### combinationSum"
   ]
  },
  {
   "cell_type": "code",
   "execution_count": 99,
   "id": "5c58311a",
   "metadata": {},
   "outputs": [],
   "source": [
    "def combinationSum(a, sum):\n",
    "    a = sorted(set(a))\n",
    "    res = []\n",
    "    def search(temp, p, sum):\n",
    "        if len(a) == p:\n",
    "            if sum == 0:\n",
    "                res.append(\" \".join([str(n) for n in temp]))\n",
    "        else:\n",
    "            for i in range(sum // a[p], -1, -1):\n",
    "                search(temp + [a[p]] * i, p + 1, sum - i * a[p])\n",
    "    search([], 0, sum)\n",
    "    return \"\".join([\"(\"+s+\")\" for s in res]) if res else \"Empty\""
   ]
  },
  {
   "cell_type": "code",
   "execution_count": 132,
   "id": "c3fb4c2b",
   "metadata": {},
   "outputs": [],
   "source": [
    "def combinationSum(a, s):    \n",
    "    ans = sorted(list(recur([], sorted(set(a)), s)))\n",
    "    if len(ans) == 0:\n",
    "        return 'Empty'\n",
    "    return '({})'.format(')('.join(' '.join(map(str, row)) for row in ans))\n",
    "\n",
    "def recur(pref, arr, s):\n",
    "    for i, val in enumerate(arr):\n",
    "        if val == s:\n",
    "            yield pref + [val]            \n",
    "        elif val > s:\n",
    "            break\n",
    "        yield from recur(pref + [val], arr[i:], s-val)"
   ]
  },
  {
   "cell_type": "code",
   "execution_count": 133,
   "id": "6c23e8bc",
   "metadata": {},
   "outputs": [
    {
     "data": {
      "text/plain": [
       "'(2 2 2 3)(2 2 5)(3 3 3)(9)'"
      ]
     },
     "execution_count": 133,
     "metadata": {},
     "output_type": "execute_result"
    }
   ],
   "source": [
    "a = [2, 3, 5, 9] \n",
    "sum = 9\n",
    "combinationSum(a, sum)"
   ]
  },
  {
   "cell_type": "code",
   "execution_count": null,
   "id": "339dfa3b",
   "metadata": {},
   "outputs": [],
   "source": []
  }
 ],
 "metadata": {
  "kernelspec": {
   "display_name": "Python 3",
   "language": "python",
   "name": "python3"
  },
  "language_info": {
   "codemirror_mode": {
    "name": "ipython",
    "version": 3
   },
   "file_extension": ".py",
   "mimetype": "text/x-python",
   "name": "python",
   "nbconvert_exporter": "python",
   "pygments_lexer": "ipython3",
   "version": "3.8.10"
  }
 },
 "nbformat": 4,
 "nbformat_minor": 5
}
