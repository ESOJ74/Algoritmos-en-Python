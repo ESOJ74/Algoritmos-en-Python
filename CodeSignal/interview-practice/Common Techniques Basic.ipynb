{
 "cells": [
  {
   "cell_type": "markdown",
   "id": "78fd7b2b",
   "metadata": {},
   "source": [
    "### containsDuplicates"
   ]
  },
  {
   "cell_type": "code",
   "execution_count": 1,
   "id": "1121409d",
   "metadata": {},
   "outputs": [],
   "source": [
    "def containsDuplicates(a):\n",
    "    con = set()\n",
    "    for n in a:\n",
    "        con.add(n)\n",
    "    return len(a) != len(con)"
   ]
  },
  {
   "cell_type": "code",
   "execution_count": 16,
   "id": "0a039c99",
   "metadata": {},
   "outputs": [],
   "source": [
    "def containsDuplicates(a):\n",
    "    return len(a) != len(set(a))"
   ]
  },
  {
   "cell_type": "code",
   "execution_count": 18,
   "id": "259ee8a4",
   "metadata": {},
   "outputs": [
    {
     "data": {
      "text/plain": [
       "True"
      ]
     },
     "execution_count": 18,
     "metadata": {},
     "output_type": "execute_result"
    }
   ],
   "source": [
    "a = [1, 2, 3, 1]\n",
    "containsDuplicates(a)"
   ]
  },
  {
   "cell_type": "markdown",
   "id": "a6732b8a",
   "metadata": {},
   "source": [
    "### sumOfTwo"
   ]
  },
  {
   "cell_type": "code",
   "execution_count": 23,
   "id": "894122a0",
   "metadata": {},
   "outputs": [],
   "source": [
    "def sumOfTwo(a, b, v):\n",
    "    for a_num in a:\n",
    "        for b_num in b:\n",
    "            if a_num+b_num==v:\n",
    "                return True\n",
    "    return False"
   ]
  },
  {
   "cell_type": "code",
   "execution_count": 10,
   "id": "00c81b50",
   "metadata": {},
   "outputs": [],
   "source": [
    "def sumOfTwo(a, b, v):\n",
    "    #No need to iterate a huge list, if the other list is empty\n",
    "    if not a or not b:\n",
    "        return False\n",
    "    \n",
    "    #kill duplicates\n",
    "    b = set(b)\n",
    "    a = set(a)\n",
    "    \n",
    "    #iterate through list a to look if the wanted difference is in b\n",
    "    for x in a:\n",
    "        if (v-x) in b:\n",
    "            return True\n",
    "    return False"
   ]
  },
  {
   "cell_type": "code",
   "execution_count": 14,
   "id": "a395b707",
   "metadata": {},
   "outputs": [],
   "source": [
    "def sumOfTwo(a,b,v):\n",
    "    b = set(b)\n",
    "    a = set(a)\n",
    "    return any(v - x in b for x in a)"
   ]
  },
  {
   "cell_type": "code",
   "execution_count": 15,
   "id": "9b90584f",
   "metadata": {},
   "outputs": [
    {
     "data": {
      "text/plain": [
       "True"
      ]
     },
     "execution_count": 15,
     "metadata": {},
     "output_type": "execute_result"
    }
   ],
   "source": [
    "a = [1, 2, 3]\n",
    "b = [10, 20, 30, 40]\n",
    "v = 42\n",
    "sumOfTwo(a, b, v)"
   ]
  },
  {
   "cell_type": "markdown",
   "id": "e0e4f572",
   "metadata": {},
   "source": [
    "### sumInRange"
   ]
  },
  {
   "cell_type": "code",
   "execution_count": 25,
   "id": "28463bb6",
   "metadata": {},
   "outputs": [],
   "source": [
    "def sumInRange(nums, queries):\n",
    "    res = [sum(nums[q[0]:q[1]+1]) for q in queries]\n",
    "    return sum(res) % 1000000007"
   ]
  },
  {
   "cell_type": "code",
   "execution_count": 27,
   "id": "abdedc5e",
   "metadata": {},
   "outputs": [],
   "source": [
    "from itertools import accumulate\n",
    "def sumInRange(n, q):\n",
    "    a ,res = tuple(accumulate([0]+n)),0\n",
    "    for i,j in q:res += a[j+1]-a[i] \n",
    "    return res % 1000000007"
   ]
  },
  {
   "cell_type": "code",
   "execution_count": null,
   "id": "76a60ff5",
   "metadata": {},
   "outputs": [],
   "source": [
    "def sumInRange(nums, queries):\n",
    "    sum_at = [0] * len(nums)\n",
    "    \n",
    "    total = 0\n",
    "    for i, x in enumerate(nums):\n",
    "        total += nums[i]\n",
    "        sum_at[i] = total \n",
    "    \n",
    "    ans = [0] * len(nums)\n",
    "    for i, q in enumerate(queries):\n",
    "        start, end = q[0], q[1]\n",
    "        if start == 0: \n",
    "            ans[i] = sum_at[end]\n",
    "        else:\n",
    "            ans[i] = sum_at[end] - sum_at[start - 1]\n",
    "\n",
    "    return sum(ans) % (10**9 + 7) #read the whole problem!"
   ]
  },
  {
   "cell_type": "code",
   "execution_count": 23,
   "id": "5c70ce63",
   "metadata": {},
   "outputs": [],
   "source": [
    "def sumInRange(nums, queries):\n",
    "    res = []\n",
    "    for q in queries:\n",
    "        res.append(sum(nums[q[0]:q[1]+1]))\n",
    "    return sum(res) % 1000000007"
   ]
  },
  {
   "cell_type": "code",
   "execution_count": 51,
   "id": "5f3ae87c",
   "metadata": {},
   "outputs": [],
   "source": [
    "def sumInRange(nums, queries):\n",
    "    res = [nums[0]]\n",
    "    for i in range(1, len(nums)):\n",
    "        res.append(res[-1] + nums[i])\n",
    "    return sum(res[j] - res[i-1]*(i!=0) for i, j in queries) % 1000000007"
   ]
  },
  {
   "cell_type": "code",
   "execution_count": 52,
   "id": "a32f9676",
   "metadata": {},
   "outputs": [
    {
     "data": {
      "text/plain": [
       "10"
      ]
     },
     "execution_count": 52,
     "metadata": {},
     "output_type": "execute_result"
    }
   ],
   "source": [
    "nums = [3, 0, -2, 6, -3, 2] \n",
    "queries = [[0, 2], [2, 5], [0, 5]]\n",
    "sumInRange(nums, queries)"
   ]
  },
  {
   "cell_type": "markdown",
   "id": "731f6699",
   "metadata": {},
   "source": [
    "### arrayMaxConsecutiveSum2"
   ]
  },
  {
   "cell_type": "code",
   "execution_count": 53,
   "id": "ad628b39",
   "metadata": {},
   "outputs": [],
   "source": [
    "def arrayMaxConsecutiveSum2(inputArray):\n",
    "    maxsum = inputArray[0]\n",
    "    l = len(inputArray)\n",
    "    cumsum = inputArray[0]\n",
    "    for i in range(1, l):\n",
    "        cumsum += inputArray[i]\n",
    "        if inputArray[i] > cumsum:\n",
    "            cumsum = inputArray[i]\n",
    "        maxsum = max(maxsum, cumsum)\n",
    "    return maxsum"
   ]
  },
  {
   "cell_type": "code",
   "execution_count": 54,
   "id": "febbe5cb",
   "metadata": {},
   "outputs": [],
   "source": [
    "def arrayMaxConsecutiveSum2(inputArray):\n",
    "    m = [inputArray[0]]\n",
    "    for n in inputArray[1:]: m.append(n if m[-1] < 0 else n + m[-1])\n",
    "    return max(m)"
   ]
  },
  {
   "cell_type": "code",
   "execution_count": 70,
   "id": "7172b451",
   "metadata": {},
   "outputs": [],
   "source": [
    "def arrayMaxConsecutiveSum2(inputArray):\n",
    "    i = 1\n",
    "    while i < len(inputArray):\n",
    "        inputArray[i] = max(inputArray[i], inputArray[i] + inputArray[i-1])\n",
    "        i+=1\n",
    "    print(inputArray)\n",
    "    return max(inputArray)"
   ]
  },
  {
   "cell_type": "code",
   "execution_count": 56,
   "id": "83af02c2",
   "metadata": {},
   "outputs": [],
   "source": [
    "def arrayMaxConsecutiveSum2(inputArray):\n",
    "    max_sum, curr_sum = float(\"-inf\"), 0\n",
    "    for a in A:\n",
    "        curr_sum += a\n",
    "        max_sum = max(max_sum, curr_sum)\n",
    "        if curr_sum < 0:\n",
    "            curr_sum = 0\n",
    "    return max_sum"
   ]
  },
  {
   "cell_type": "code",
   "execution_count": 87,
   "id": "81036371",
   "metadata": {},
   "outputs": [],
   "source": [
    "def arrayMaxConsecutiveSum2(inputArray):    \n",
    "    for i in range(1,len(inputArray)):\n",
    "        inputArray[i] = max(inputArray[i], inputArray[i] + inputArray[i-1]) \n",
    "    return max(inputArray)"
   ]
  },
  {
   "cell_type": "code",
   "execution_count": 88,
   "id": "88dc91f3",
   "metadata": {},
   "outputs": [
    {
     "name": "stdout",
     "output_type": "stream",
     "text": [
      "[-2, 2, 7, -4, 6]\n"
     ]
    },
    {
     "data": {
      "text/plain": [
       "7"
      ]
     },
     "execution_count": 88,
     "metadata": {},
     "output_type": "execute_result"
    }
   ],
   "source": [
    "inputArray = [-2, 2, 5, -11, 6]\n",
    "arrayMaxConsecutiveSum2(inputArray)"
   ]
  },
  {
   "cell_type": "markdown",
   "id": "b140eec5",
   "metadata": {},
   "source": [
    "### findLongestSubarrayBySum"
   ]
  },
  {
   "cell_type": "code",
   "execution_count": 89,
   "id": "c15aafe2",
   "metadata": {},
   "outputs": [],
   "source": [
    "def findLongestSubarrayBySum(s, a):\n",
    "    total = j = 0\n",
    "    res = (0,-1)\n",
    "    for i,v in enumerate(a):\n",
    "        total += v\n",
    "        while j<=i and total>s:\n",
    "            total -= a[j]\n",
    "            j += 1\n",
    "        if (total == s) and (res[1]-res[0]<i-j):\n",
    "            res=(j+1,i+1)\n",
    "    return res if res[0] else [-1]"
   ]
  },
  {
   "cell_type": "code",
   "execution_count": null,
   "id": "7bbfa707",
   "metadata": {},
   "outputs": [],
   "source": [
    "def findLongestSubarrayBySum(s, arr):\n",
    "    l, r, N = 0, 0, len(arr)\n",
    "    ss = arr[0] if N else 0\n",
    "    bl, br = None, None\n",
    "    while l < N:\n",
    "        while r < N and ss <= s:\n",
    "            if ss == s:\n",
    "                if bl is None or br - bl < r - l:\n",
    "                    bl, br = l, r\n",
    "            r += 1\n",
    "            ss += arr[r] if r < N else 0\n",
    "        ss -= arr[l]\n",
    "        l += 1\n",
    "    return [-1] if bl is None else [bl + 1, br + 1]"
   ]
  },
  {
   "cell_type": "code",
   "execution_count": 90,
   "id": "354017e4",
   "metadata": {},
   "outputs": [
    {
     "data": {
      "text/plain": [
       "(2, 4)"
      ]
     },
     "execution_count": 90,
     "metadata": {},
     "output_type": "execute_result"
    }
   ],
   "source": [
    "s = 12 \n",
    "arr = [1, 2, 3, 7, 5]\n",
    "findLongestSubarrayBySum(s, arr)"
   ]
  },
  {
   "cell_type": "markdown",
   "id": "b6721223",
   "metadata": {},
   "source": [
    "### productExceptSelf"
   ]
  },
  {
   "cell_type": "code",
   "execution_count": 91,
   "id": "2d227ff0",
   "metadata": {},
   "outputs": [],
   "source": [
    "def productExceptSelf(nums, m):\n",
    "    s, p = 0, 1\n",
    "    for num in nums:\n",
    "        s, p = (p + s*num) % m, p*num % m\n",
    "    return s"
   ]
  },
  {
   "cell_type": "code",
   "execution_count": 95,
   "id": "168171b6",
   "metadata": {},
   "outputs": [],
   "source": [
    "def productExceptSelf(nums, m):    \n",
    "    s, p = 0, 1\n",
    "    for num in nums:\n",
    "        s = (p + s*num) % m\n",
    "        p = p*num % m\n",
    "    return s"
   ]
  },
  {
   "cell_type": "code",
   "execution_count": 93,
   "id": "a0a10fe2",
   "metadata": {},
   "outputs": [],
   "source": [
    "def productExceptSelf(nums, m):\n",
    "    prefixProduct = [1]*len(nums)\n",
    "    suffixProduct = 1 \n",
    "    for i in range(1,len(nums)):\n",
    "        prefixProduct[i] = (prefixProduct[i-1] * nums[i-1]) % m\n",
    "\n",
    "    total = 0\n",
    "    for i in range(len(nums)):\n",
    "        total += (prefixProduct[-1 - i]*suffixProduct) % m\n",
    "        suffixProduct = (suffixProduct * nums[-1-i]) % m\n",
    "\n",
    "\n",
    "    return total % m"
   ]
  },
  {
   "cell_type": "code",
   "execution_count": 96,
   "id": "8603ea35",
   "metadata": {},
   "outputs": [
    {
     "data": {
      "text/plain": [
       "2"
      ]
     },
     "execution_count": 96,
     "metadata": {},
     "output_type": "execute_result"
    }
   ],
   "source": [
    "nums = [1, 2, 3, 4] \n",
    "m = 12\n",
    "productExceptSelf(nums, m)"
   ]
  },
  {
   "cell_type": "markdown",
   "id": "019315b4",
   "metadata": {},
   "source": [
    "### minSubstringWithAllChars"
   ]
  },
  {
   "cell_type": "code",
   "execution_count": 99,
   "id": "93e53cea",
   "metadata": {},
   "outputs": [],
   "source": [
    "def minSubstringWithAllChars(s, t):\n",
    "    for x in range(len(s)+1):\n",
    "        for y in range(len(s)-x+1):\n",
    "            c = filter(lambda x: x in t,s[y:y+x])\n",
    "            if len(set(c))==len(t):\n",
    "                return s[y:y+x]\n",
    "    return \"\""
   ]
  },
  {
   "cell_type": "code",
   "execution_count": 100,
   "id": "c668fac5",
   "metadata": {},
   "outputs": [
    {
     "data": {
      "text/plain": [
       "'banc'"
      ]
     },
     "execution_count": 100,
     "metadata": {},
     "output_type": "execute_result"
    }
   ],
   "source": [
    "s = \"adobecodebanc\" \n",
    "t = \"abc\"\n",
    "minSubstringWithAllChars(s, t)"
   ]
  },
  {
   "cell_type": "code",
   "execution_count": null,
   "id": "636339c6",
   "metadata": {},
   "outputs": [],
   "source": []
  }
 ],
 "metadata": {
  "kernelspec": {
   "display_name": "Python 3",
   "language": "python",
   "name": "python3"
  },
  "language_info": {
   "codemirror_mode": {
    "name": "ipython",
    "version": 3
   },
   "file_extension": ".py",
   "mimetype": "text/x-python",
   "name": "python",
   "nbconvert_exporter": "python",
   "pygments_lexer": "ipython3",
   "version": "3.8.10"
  }
 },
 "nbformat": 4,
 "nbformat_minor": 5
}
