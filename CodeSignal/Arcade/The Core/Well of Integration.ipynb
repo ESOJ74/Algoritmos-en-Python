{
 "cells": [
  {
   "cell_type": "markdown",
   "id": "8561e433",
   "metadata": {},
   "source": [
    "### House Numbers Sum"
   ]
  },
  {
   "cell_type": "code",
   "execution_count": 14,
   "id": "674f50b9",
   "metadata": {},
   "outputs": [],
   "source": [
    "def houseNumbersSum(inputArray):\n",
    "    res = 0\n",
    "    for number in inputArray:\n",
    "        res = res + number\n",
    "        if number == 0:\n",
    "            return res"
   ]
  },
  {
   "cell_type": "code",
   "execution_count": 16,
   "id": "15da44c4",
   "metadata": {},
   "outputs": [],
   "source": [
    "def houseNumbersSum(inputArray):\n",
    "    return sum(inputArray[:inputArray.index(0)])      "
   ]
  },
  {
   "cell_type": "code",
   "execution_count": 19,
   "id": "c471ca4a",
   "metadata": {},
   "outputs": [
    {
     "name": "stdout",
     "output_type": "stream",
     "text": [
      "[5, 1, 2, 3]\n"
     ]
    }
   ],
   "source": [
    "inputArray = [5, 1, 2, 3, 0, 1, 5, 0, 2]\n",
    "houseNumbersSum(inputArray)"
   ]
  },
  {
   "cell_type": "markdown",
   "id": "b8a6a93b",
   "metadata": {},
   "source": [
    "### All Longest Strings"
   ]
  },
  {
   "cell_type": "code",
   "execution_count": 61,
   "id": "172abcc8",
   "metadata": {},
   "outputs": [],
   "source": [
    "def allLongestStrings(inputArray):\n",
    "    return [x for x in inputArray if len(x)==max(map(len,inputArray))]"
   ]
  },
  {
   "cell_type": "code",
   "execution_count": 59,
   "id": "72b19cbf",
   "metadata": {},
   "outputs": [],
   "source": [
    "def allLongestStrings(inputArray):\n",
    "    return [string for string in inputArray if len(string) == len(max(inputArray, key=len))]"
   ]
  },
  {
   "cell_type": "code",
   "execution_count": 63,
   "id": "a6af8fc4",
   "metadata": {},
   "outputs": [
    {
     "data": {
      "text/plain": [
       "['zzzzzz', 'abcdef', 'aaaaaa']"
      ]
     },
     "execution_count": 63,
     "metadata": {},
     "output_type": "execute_result"
    }
   ],
   "source": [
    "inputArray = [\"a\",  \"abc\",  \"cbd\",  \"zzzzzz\",  \"a\",  \"abcdef\",  \"asasa\",  \"aaaaaa\"]\n",
    "allLongestStrings(inputArray)"
   ]
  },
  {
   "cell_type": "markdown",
   "id": "585aab44",
   "metadata": {},
   "source": [
    "### House of Cats"
   ]
  },
  {
   "cell_type": "code",
   "execution_count": 128,
   "id": "e4c9022f",
   "metadata": {},
   "outputs": [],
   "source": [
    "def houseOfCats(legs):\n",
    "    arr = []\n",
    "    while legs >= 0:\n",
    "        if legs%2 == 0:\n",
    "            arr.append(int(legs/2))\n",
    "            legs = legs - 4\n",
    "    return sorted(arr)"
   ]
  },
  {
   "cell_type": "code",
   "execution_count": 126,
   "id": "3bbf1f0f",
   "metadata": {},
   "outputs": [],
   "source": [
    "def houseOfCats(legs):\n",
    "    return list(range(legs // 2 % 2, legs // 2 + 1, 2))"
   ]
  },
  {
   "cell_type": "code",
   "execution_count": 124,
   "id": "22cc4d86",
   "metadata": {},
   "outputs": [],
   "source": [
    "def houseOfCats(legs):\n",
    "    return [i for i in range(int(legs/2)+1) if (legs-2*i)%4==0]"
   ]
  },
  {
   "cell_type": "code",
   "execution_count": 129,
   "id": "afecd724",
   "metadata": {},
   "outputs": [
    {
     "data": {
      "text/plain": [
       "[0, 2, 4]"
      ]
     },
     "execution_count": 129,
     "metadata": {},
     "output_type": "execute_result"
    }
   ],
   "source": [
    "legs = 8\n",
    "houseOfCats(legs)"
   ]
  },
  {
   "cell_type": "markdown",
   "id": "66bf473a",
   "metadata": {},
   "source": [
    "### Alphabet Subsequence"
   ]
  },
  {
   "cell_type": "code",
   "execution_count": null,
   "id": "0bf17ff8",
   "metadata": {},
   "outputs": [],
   "source": [
    "def alphabetSubsequence(s):\n",
    "    l = []\n",
    "    for letra in s:\n",
    "        if letra not in l:\n",
    "            l.append(letra)\n",
    "    return l == sorted(s)"
   ]
  },
  {
   "cell_type": "code",
   "execution_count": 142,
   "id": "831b8523",
   "metadata": {},
   "outputs": [],
   "source": [
    "def alphabetSubsequence(s):\n",
    "    return [letra for letra in s] == sorted(s) and len(set(s)) == len(s)"
   ]
  },
  {
   "cell_type": "code",
   "execution_count": null,
   "id": "887f2831",
   "metadata": {},
   "outputs": [],
   "source": [
    "def alphabetSubsequence(s):\n",
    "    return \"\".join(sorted(s)) == s and len(set(s)) == len(s)"
   ]
  },
  {
   "cell_type": "code",
   "execution_count": null,
   "id": "643660b5",
   "metadata": {},
   "outputs": [],
   "source": [
    "def alphabetSubsequence(s):\n",
    "    return all(s[i]<s[i+1] for i in range(len(s)-1))"
   ]
  },
  {
   "cell_type": "code",
   "execution_count": 143,
   "id": "6b8c068c",
   "metadata": {},
   "outputs": [
    {
     "data": {
      "text/plain": [
       "True"
      ]
     },
     "execution_count": 143,
     "metadata": {},
     "output_type": "execute_result"
    }
   ],
   "source": [
    "s = \"effg\"\n",
    "s = \"ace\"\n",
    "alphabetSubsequence(s)"
   ]
  },
  {
   "cell_type": "markdown",
   "id": "80dc9f2d",
   "metadata": {},
   "source": [
    "### Minimal Number of Coins"
   ]
  },
  {
   "cell_type": "code",
   "execution_count": 221,
   "id": "eb54264e",
   "metadata": {},
   "outputs": [],
   "source": [
    "def minimalNumberOfCoins(coins, price):\n",
    "    res = 0\n",
    "    for coin in coins[::-1]: \n",
    "        if price >= coin:            \n",
    "            res = res + price // coin\n",
    "            price = price - coin * (price // coin)\n",
    "    return res"
   ]
  },
  {
   "cell_type": "code",
   "execution_count": 205,
   "id": "f9c4de00",
   "metadata": {},
   "outputs": [],
   "source": [
    "def minimalNumberOfCoins(coins, price):\n",
    "    res = 0\n",
    "    for x in reversed(coins):\n",
    "        t, price = divmod(price, x)\n",
    "        res += t\n",
    "    return res"
   ]
  },
  {
   "cell_type": "code",
   "execution_count": 238,
   "id": "259d01ec",
   "metadata": {},
   "outputs": [
    {
     "data": {
      "text/plain": [
       "4"
      ]
     },
     "execution_count": 238,
     "metadata": {},
     "output_type": "execute_result"
    }
   ],
   "source": [
    "coins = [1, 3, 6, 30]\n",
    "price = 45\n",
    "minimalNumberOfCoins(coins, price)"
   ]
  },
  {
   "cell_type": "markdown",
   "id": "b8b7467c",
   "metadata": {},
   "source": [
    "### Add Border"
   ]
  },
  {
   "cell_type": "code",
   "execution_count": 245,
   "id": "4f6c800d",
   "metadata": {},
   "outputs": [],
   "source": [
    "def addBorder(picture):\n",
    "    res = [\"*\" * (len(picture[0])+2)]\n",
    "    for pic in picture:\n",
    "        res.append(\"*\"+pic+\"*\")\n",
    "    res.append(\"*\" * (len(picture[0])+2))\n",
    "    return res"
   ]
  },
  {
   "cell_type": "code",
   "execution_count": 247,
   "id": "167c6aca",
   "metadata": {},
   "outputs": [],
   "source": [
    "def addBorder(p):\n",
    "    return [\"*\"*(len(p[0])+2)]+[\"*\"+i+\"*\" for i in p]+[\"*\"*(len(p[0])+2)]"
   ]
  },
  {
   "cell_type": "code",
   "execution_count": 249,
   "id": "cdc9559c",
   "metadata": {},
   "outputs": [],
   "source": [
    "def addBorder(picture):\n",
    "    l=len(picture[0])+2\n",
    "    return [\"*\"*l]+[x.center(l,\"*\") for x in picture]+[\"*\"*l]"
   ]
  },
  {
   "cell_type": "code",
   "execution_count": 250,
   "id": "e21db070",
   "metadata": {},
   "outputs": [
    {
     "data": {
      "text/plain": [
       "['*****', '*abc*', '*ded*', '*****']"
      ]
     },
     "execution_count": 250,
     "metadata": {},
     "output_type": "execute_result"
    }
   ],
   "source": [
    "picture = [\"abc\",\n",
    "           \"ded\"]\n",
    "addBorder(picture)"
   ]
  },
  {
   "cell_type": "markdown",
   "id": "e3382c0a",
   "metadata": {},
   "source": [
    "### Switch Lights"
   ]
  },
  {
   "cell_type": "code",
   "execution_count": 300,
   "id": "f2d88bc0",
   "metadata": {},
   "outputs": [],
   "source": [
    "def switchLights(a):    \n",
    "    for ind,x in enumerate(a):\n",
    "        if x:\n",
    "            for i in range(ind+1):\n",
    "                a[i] = 1 - a[i]\n",
    "    return a"
   ]
  },
  {
   "cell_type": "code",
   "execution_count": 284,
   "id": "8c1a419b",
   "metadata": {},
   "outputs": [],
   "source": [
    "def switchLights(a):\n",
    "    return [(x + sum(a[i:]))%2 for i,x in enumerate(a)]"
   ]
  },
  {
   "cell_type": "code",
   "execution_count": 301,
   "id": "ed6c206c",
   "metadata": {},
   "outputs": [
    {
     "data": {
      "text/plain": [
       "[0, 1, 0, 1, 0]"
      ]
     },
     "execution_count": 301,
     "metadata": {},
     "output_type": "execute_result"
    }
   ],
   "source": [
    "a = [1, 1, 1, 1, 1]\n",
    "switchLights(a)"
   ]
  },
  {
   "cell_type": "markdown",
   "id": "31edfedc",
   "metadata": {},
   "source": [
    "### Timed Reading"
   ]
  },
  {
   "cell_type": "code",
   "execution_count": 394,
   "id": "23688d5b",
   "metadata": {},
   "outputs": [],
   "source": [
    "import re\n",
    "def timedReading(maxLength, text):\n",
    "    return sum(1 for i in re.split(\"[] ;',:?!]\",text) if maxLength >= len(i) and i)"
   ]
  },
  {
   "cell_type": "code",
   "execution_count": 392,
   "id": "468ba0e9",
   "metadata": {},
   "outputs": [],
   "source": [
    "def timedReading(maxLength, text):\n",
    "    new_text = [''.join(char for char in word if char.isalnum()) for word in text.split(\" \")]\n",
    "    if new_text[0] == '':\n",
    "        return 0\n",
    "    return len([word for word in new_text if len(word) <= maxLength])"
   ]
  },
  {
   "cell_type": "code",
   "execution_count": 398,
   "id": "e6d264d6",
   "metadata": {},
   "outputs": [],
   "source": [
    "import string\n",
    "def timedReading(maxLength, text):\n",
    "    return len([j for j in \"\".join(\n",
    "        [i if i in string.ascii_letters else \" \" for i in text]).split() if len(j)<=maxLength])"
   ]
  },
  {
   "cell_type": "code",
   "execution_count": 399,
   "id": "cc60b2f5",
   "metadata": {},
   "outputs": [
    {
     "data": {
      "text/plain": [
       "0"
      ]
     },
     "execution_count": 399,
     "metadata": {},
     "output_type": "execute_result"
    }
   ],
   "source": [
    "maxLength = 4\n",
    "text = \"The Fox asked the stork, 'How is the soup?'\"\n",
    "text = \"...\"\n",
    "timedReading(maxLength, text)"
   ]
  },
  {
   "cell_type": "markdown",
   "id": "c29fa641",
   "metadata": {},
   "source": [
    "### Elections Winners"
   ]
  },
  {
   "cell_type": "code",
   "execution_count": 400,
   "id": "545c6323",
   "metadata": {},
   "outputs": [],
   "source": [
    "def electionsWinners(votes, k):\n",
    "    m = max(votes)\n",
    "    if k == 0:\n",
    "        return 1 if len([x for x in votes if x==m]) == 1 else 0\n",
    "    return len([x for x in votes if x+k > m])"
   ]
  },
  {
   "cell_type": "code",
   "execution_count": 401,
   "id": "9de417ec",
   "metadata": {},
   "outputs": [],
   "source": [
    "def electionsWinners(votes, k):\n",
    "    m = max(votes)\n",
    "    return sum(v + k > m for v in votes) if k > 0 else 1 if votes.count(m) == 1 else 0"
   ]
  },
  {
   "cell_type": "code",
   "execution_count": 402,
   "id": "1b1f7328",
   "metadata": {},
   "outputs": [
    {
     "data": {
      "text/plain": [
       "2"
      ]
     },
     "execution_count": 402,
     "metadata": {},
     "output_type": "execute_result"
    }
   ],
   "source": [
    "votes = [2, 3, 5, 2] \n",
    "k = 3\n",
    "electionsWinners(votes, k)"
   ]
  },
  {
   "cell_type": "markdown",
   "id": "6bfee87b",
   "metadata": {},
   "source": [
    "### Integer to String of Fixed Width"
   ]
  },
  {
   "cell_type": "code",
   "execution_count": 403,
   "id": "87e65af4",
   "metadata": {},
   "outputs": [],
   "source": [
    "def integerToStringOfFixedWidth(number, width):\n",
    "    return str(number).zfill(width)[-width:]"
   ]
  },
  {
   "cell_type": "code",
   "execution_count": null,
   "id": "f7bf1cb9",
   "metadata": {},
   "outputs": [],
   "source": [
    "def integerToStringOfFixedWidth(number, width):\n",
    "    return (\"0\"*width+str(number))[-width:]"
   ]
  },
  {
   "cell_type": "code",
   "execution_count": null,
   "id": "fdc577f1",
   "metadata": {},
   "outputs": [],
   "source": [
    "def integerToStringOfFixedWidth(n, w):\n",
    "    return str(n).zfill(w)[-w:]"
   ]
  },
  {
   "cell_type": "code",
   "execution_count": 404,
   "id": "6570b968",
   "metadata": {},
   "outputs": [
    {
     "data": {
      "text/plain": [
       "'34'"
      ]
     },
     "execution_count": 404,
     "metadata": {},
     "output_type": "execute_result"
    }
   ],
   "source": [
    "number = 1234 \n",
    "width = 2\n",
    "integerToStringOfFixedWidth(number, width)"
   ]
  },
  {
   "cell_type": "markdown",
   "id": "78c24223",
   "metadata": {},
   "source": [
    "### Are Similar?"
   ]
  },
  {
   "cell_type": "code",
   "execution_count": 407,
   "id": "2d066536",
   "metadata": {},
   "outputs": [],
   "source": [
    "def areSimilar(A, B):\n",
    "    d = [(x,y) for x,y in zip(A,B) if x!=y]\n",
    "    return len(d) == 0 or (len(d) == 2 and d[0][::-1]==d[1])"
   ]
  },
  {
   "cell_type": "code",
   "execution_count": 408,
   "id": "fd502cc9",
   "metadata": {},
   "outputs": [],
   "source": [
    "def areSimilar(a, b):\n",
    "    return sorted(a) == sorted(b) and sum(i != j for i, j in zip(a, b)) < 3"
   ]
  },
  {
   "cell_type": "code",
   "execution_count": 409,
   "id": "045cf6c5",
   "metadata": {},
   "outputs": [
    {
     "data": {
      "text/plain": [
       "True"
      ]
     },
     "execution_count": 409,
     "metadata": {},
     "output_type": "execute_result"
    }
   ],
   "source": [
    "a = [1, 2, 3] \n",
    "b = [1, 2, 3]\n",
    "areSimilar(a, b) "
   ]
  },
  {
   "cell_type": "markdown",
   "id": "8a746464",
   "metadata": {},
   "source": [
    "### Ada Number"
   ]
  },
  {
   "cell_type": "code",
   "execution_count": 412,
   "id": "ff28e955",
   "metadata": {},
   "outputs": [],
   "source": [
    "def adaNumber(line):\n",
    "    line = line.replace('_', '')\n",
    "    if line.isdigit(): \n",
    "        return True\n",
    "    try:\n",
    "        b, n = line.split('#')[:-1]\n",
    "        if int(b) < 2 or int(b) > 16:\n",
    "            return False\n",
    "        try:\n",
    "            int(n, int(b))\n",
    "            return True\n",
    "        except ValueError:\n",
    "            return False\n",
    "    except ValueError:\n",
    "        return False"
   ]
  },
  {
   "cell_type": "code",
   "execution_count": 410,
   "id": "3c31cb80",
   "metadata": {},
   "outputs": [],
   "source": [
    "def adaNumber(line):\n",
    "    line = line.replace(\"_\", \"\")\n",
    "    if \"#\" not in line:\n",
    "        try: int(line)\n",
    "        except: return False\n",
    "    else:\n",
    "        try: \n",
    "            n = int(line[line.find(\"#\") + 1:line.rfind(\"#\")], int(line[:line.find(\"#\")]))\n",
    "            if int(line[:line.find(\"#\")]) > 16 or int(line[:line.find(\"#\")]) < 2: return False\n",
    "        except: return False\n",
    "    return True"
   ]
  },
  {
   "cell_type": "code",
   "execution_count": 414,
   "id": "294ae68f",
   "metadata": {},
   "outputs": [
    {
     "data": {
      "text/plain": [
       "True"
      ]
     },
     "execution_count": 414,
     "metadata": {},
     "output_type": "execute_result"
    }
   ],
   "source": [
    "line = \"123_456_789\"\n",
    "adaNumber(line)"
   ]
  },
  {
   "cell_type": "markdown",
   "id": "eab9f419",
   "metadata": {},
   "source": [
    "### Three Split"
   ]
  },
  {
   "cell_type": "code",
   "execution_count": 418,
   "id": "9cf3acad",
   "metadata": {},
   "outputs": [],
   "source": [
    "def threeSplit(a):\n",
    "\n",
    "    tot = sum(a) // 3\n",
    "    ans = 0\n",
    "    cur = 0\n",
    "    first = 0 \n",
    "    \n",
    "    for i in range(len(a) - 1):\n",
    "        cur += a[i]\n",
    "        if cur == tot:\n",
    "            first += 1\n",
    "        if cur == 2 * tot:\n",
    "            ans += first\n",
    "            if tot == 0:\n",
    "                ans -= 1\n",
    "                \n",
    "    return ans        "
   ]
  },
  {
   "cell_type": "code",
   "execution_count": 419,
   "id": "225944e8",
   "metadata": {},
   "outputs": [
    {
     "data": {
      "text/plain": [
       "4"
      ]
     },
     "execution_count": 419,
     "metadata": {},
     "output_type": "execute_result"
    }
   ],
   "source": [
    "a = [0, -1, 0, -1, 0, -1]\n",
    "threeSplit(a) "
   ]
  },
  {
   "cell_type": "code",
   "execution_count": null,
   "id": "ca546af4",
   "metadata": {},
   "outputs": [],
   "source": []
  }
 ],
 "metadata": {
  "kernelspec": {
   "display_name": "Python 3",
   "language": "python",
   "name": "python3"
  },
  "language_info": {
   "codemirror_mode": {
    "name": "ipython",
    "version": 3
   },
   "file_extension": ".py",
   "mimetype": "text/x-python",
   "name": "python",
   "nbconvert_exporter": "python",
   "pygments_lexer": "ipython3",
   "version": "3.8.10"
  }
 },
 "nbformat": 4,
 "nbformat_minor": 5
}
