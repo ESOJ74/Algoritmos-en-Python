{
 "cells": [
  {
   "cell_type": "markdown",
   "id": "43332cd7",
   "metadata": {},
   "source": [
    "### Strings Construction"
   ]
  },
  {
   "cell_type": "code",
   "execution_count": 26,
   "id": "5b777f0d",
   "metadata": {},
   "outputs": [],
   "source": [
    "def stringsConstruction(a, b):\n",
    "    \n",
    "    a_list = [x for x in a]\n",
    "    b_list = [x for x in b]\n",
    "    result = 0\n",
    "    \n",
    "    for i in range(len(b)-len(a)):\n",
    "        for letra in a_list:\n",
    "            if letra not in b_list:\n",
    "                return result\n",
    "            else:\n",
    "                b_list.remove(letra)    \n",
    "        result = result + 1\n",
    "    return result"
   ]
  },
  {
   "cell_type": "code",
   "execution_count": null,
   "id": "350da6a2",
   "metadata": {},
   "outputs": [],
   "source": [
    "def stringsConstruction(A, B):\n",
    "    return min(B.count(c)//A.count(c) for c in A)"
   ]
  },
  {
   "cell_type": "code",
   "execution_count": 45,
   "id": "70ec03a7",
   "metadata": {},
   "outputs": [],
   "source": [
    "# La más eficiente\n",
    "\n",
    "def stringsConstruction(a, b):\n",
    "    c=set()\n",
    "    for x in set(a):\n",
    "        c.add(b.count(x)//a.count(x))\n",
    "    return min(c)"
   ]
  },
  {
   "cell_type": "code",
   "execution_count": 46,
   "id": "d95375e6",
   "metadata": {},
   "outputs": [
    {
     "data": {
      "text/plain": [
       "2"
      ]
     },
     "execution_count": 46,
     "metadata": {},
     "output_type": "execute_result"
    }
   ],
   "source": [
    "a = \"abc\" \n",
    "b = \"abccbaa\"\n",
    "stringsConstruction(a, b)"
   ]
  },
  {
   "cell_type": "markdown",
   "id": "6528f788",
   "metadata": {},
   "source": [
    "### Is Substitution Cipher?"
   ]
  },
  {
   "cell_type": "code",
   "execution_count": 49,
   "id": "921cb3f6",
   "metadata": {},
   "outputs": [],
   "source": [
    "def isSubstitutionCipher(string1, string2):\n",
    "    cipher =  dict()\n",
    "    for i in range(len(string1)):\n",
    "        if string1[i] in cipher:\n",
    "            if cipher[string1[i]] != string2[i]:\n",
    "                return False\n",
    "        elif string2[i] in cipher.values():\n",
    "            return False\n",
    "        else:\n",
    "            cipher[string1[i]]=string2[i]\n",
    "    return True"
   ]
  },
  {
   "cell_type": "code",
   "execution_count": 85,
   "id": "16e80c99",
   "metadata": {},
   "outputs": [],
   "source": [
    "def isSubstitutionCipher(string1, string2):\n",
    "    return len(set(zip(string1, string2))) == len(set(string1)) == len(set(string2))"
   ]
  },
  {
   "cell_type": "code",
   "execution_count": 95,
   "id": "f73eb471",
   "metadata": {},
   "outputs": [],
   "source": [
    "def isSubstitutionCipher(string1, string2):\n",
    "    if len(set(string1)) == len(set(string2)) == len(set(zip(string1, string2))):\n",
    "        return True\n",
    "    return False        "
   ]
  },
  {
   "cell_type": "code",
   "execution_count": 96,
   "id": "f4702beb",
   "metadata": {},
   "outputs": [
    {
     "data": {
      "text/plain": [
       "True"
      ]
     },
     "execution_count": 96,
     "metadata": {},
     "output_type": "execute_result"
    }
   ],
   "source": [
    "string1 = \"aacb\" \n",
    "string2 = \"aabc\"\n",
    "isSubstitutionCipher(string1, string2) "
   ]
  },
  {
   "cell_type": "markdown",
   "id": "58e11777",
   "metadata": {},
   "source": [
    "### Create Anagram"
   ]
  },
  {
   "cell_type": "code",
   "execution_count": 153,
   "id": "199de6dc",
   "metadata": {},
   "outputs": [],
   "source": [
    "def createAnagram(s, t):\n",
    "    return sum(max(0, s.count(i)-t.count(i)) for i in set(s))"
   ]
  },
  {
   "cell_type": "code",
   "execution_count": 176,
   "id": "e56657cb",
   "metadata": {},
   "outputs": [],
   "source": [
    "from collections import Counter\n",
    "def createAnagram(s, t):\n",
    "    return len(list((Counter(s)-Counter(t)).elements()))\n"
   ]
  },
  {
   "cell_type": "code",
   "execution_count": 172,
   "id": "a9d62977",
   "metadata": {},
   "outputs": [],
   "source": [
    "def createAnagram(s, t):\n",
    "    a = set(s)        \n",
    "    return sum(max(0,s.count(i)-t.count(i)) for i in a)"
   ]
  },
  {
   "cell_type": "code",
   "execution_count": 177,
   "id": "a89f6416",
   "metadata": {},
   "outputs": [
    {
     "name": "stdout",
     "output_type": "stream",
     "text": [
      "Counter({'A': 4, 'B': 1})\n"
     ]
    },
    {
     "data": {
      "text/plain": [
       "1"
      ]
     },
     "execution_count": 177,
     "metadata": {},
     "output_type": "execute_result"
    }
   ],
   "source": [
    "s = \"AABAA\" \n",
    "t = \"BBAAA\"\n",
    "createAnagram(s, t)"
   ]
  },
  {
   "cell_type": "markdown",
   "id": "336f44b1",
   "metadata": {},
   "source": [
    "### Construct Square"
   ]
  },
  {
   "cell_type": "code",
   "execution_count": 3,
   "id": "9008d098",
   "metadata": {},
   "outputs": [],
   "source": [
    "from collections import Counter\n",
    "\n",
    "def constructSquare(s):\n",
    "    sc = sorted(Counter(s).values())\n",
    "    for i in range(int((10**len(s))**0.5), int((10**(len(s)-1))**0.5), -1):\n",
    "        if sc == sorted(Counter(str(i*i)).values()):\n",
    "            return i*i\n",
    "    return -1"
   ]
  },
  {
   "cell_type": "code",
   "execution_count": 7,
   "id": "5feadffd",
   "metadata": {},
   "outputs": [],
   "source": [
    "from math import sqrt\n",
    "\n",
    "def constructSquare(s):\n",
    "    d_max = int(sqrt(10**len(s) - 1))\n",
    "    for d in range(d_max, 0, -1):\n",
    "        n = d * d\n",
    "        if sorted(s.count(c) for c in set(s)) == sorted(str(n).count(c) for c in set(str(n))):\n",
    "            return n\n",
    "    return -1    \n",
    "    "
   ]
  },
  {
   "cell_type": "code",
   "execution_count": 8,
   "id": "8ab70ad6",
   "metadata": {},
   "outputs": [
    {
     "data": {
      "text/plain": [
       "900"
      ]
     },
     "execution_count": 8,
     "metadata": {},
     "output_type": "execute_result"
    }
   ],
   "source": [
    "s = \"aba\"\n",
    "constructSquare(s)"
   ]
  },
  {
   "cell_type": "markdown",
   "id": "3ccf2086",
   "metadata": {},
   "source": [
    "### Numbers Grouping"
   ]
  },
  {
   "cell_type": "code",
   "execution_count": 10,
   "id": "2322225c",
   "metadata": {},
   "outputs": [],
   "source": [
    "def numbersGrouping(a):\n",
    "    return len(set([(x-1)//10000 for x in a])) + len(a)"
   ]
  },
  {
   "cell_type": "code",
   "execution_count": 14,
   "id": "d831c937",
   "metadata": {},
   "outputs": [],
   "source": [
    "def numbersGrouping(a):\n",
    "    return len({(x-1)//10000 for x in a}) + len(a)"
   ]
  },
  {
   "cell_type": "code",
   "execution_count": 24,
   "id": "2c416e58",
   "metadata": {},
   "outputs": [],
   "source": [
    "def numbersGrouping(a):\n",
    "    conj = set()\n",
    "    for number in a:\n",
    "        conj.add((number-1)//10000)\n",
    "    return len(conj) + len(a)        "
   ]
  },
  {
   "cell_type": "code",
   "execution_count": 25,
   "id": "5ff289b7",
   "metadata": {},
   "outputs": [
    {
     "name": "stdout",
     "output_type": "stream",
     "text": [
      "{0, 1, 2, 99}\n"
     ]
    },
    {
     "data": {
      "text/plain": [
       "11"
      ]
     },
     "execution_count": 25,
     "metadata": {},
     "output_type": "execute_result"
    }
   ],
   "source": [
    "a = [20000, 239, 10001, 999999, 10000, 20566, 29999]\n",
    "numbersGrouping(a)"
   ]
  },
  {
   "cell_type": "markdown",
   "id": "9c9c319b",
   "metadata": {},
   "source": [
    "### Different Squares"
   ]
  },
  {
   "cell_type": "code",
   "execution_count": 70,
   "id": "25542dde",
   "metadata": {},
   "outputs": [],
   "source": [
    "def differentSquares(matrix):\n",
    "    s = set()\n",
    "    for i in range(len(matrix) - 1):\n",
    "        for j in range(len(matrix[i]) - 1):\n",
    "            s.add((matrix[i][j], matrix[i][j+1], matrix[i+1][j], matrix[i+1][j+1]))\n",
    "    return len(s)"
   ]
  },
  {
   "cell_type": "code",
   "execution_count": 76,
   "id": "03b28f19",
   "metadata": {},
   "outputs": [],
   "source": [
    "def differentSquares(matrix):\n",
    "    return len({\n",
    "        (matrix[x][y], matrix[x + 1][y], matrix[x][y + 1], matrix[x + 1][y + 1])\n",
    "        for x in range(len(matrix) - 1)\n",
    "        for y in range(len(matrix[0]) - 1)\n",
    "    })"
   ]
  },
  {
   "cell_type": "code",
   "execution_count": 77,
   "id": "68b52c67",
   "metadata": {},
   "outputs": [
    {
     "data": {
      "text/plain": [
       "6"
      ]
     },
     "execution_count": 77,
     "metadata": {},
     "output_type": "execute_result"
    }
   ],
   "source": [
    "matrix = [[1, 2, 1],\n",
    "          [2, 2, 2],\n",
    "          [2, 2, 2],\n",
    "          [1, 2, 3],\n",
    "          [2, 2, 1]]\n",
    "differentSquares(matrix)"
   ]
  },
  {
   "cell_type": "markdown",
   "id": "8123c650",
   "metadata": {},
   "source": [
    "### Most Frequent Digit Sum"
   ]
  },
  {
   "cell_type": "code",
   "execution_count": 82,
   "id": "68294dc6",
   "metadata": {},
   "outputs": [],
   "source": [
    "def mostFrequentDigitSum(n):\n",
    "    return 18 if n>=999 else 9 if n>=9 else n"
   ]
  },
  {
   "cell_type": "code",
   "execution_count": 107,
   "id": "1ef7e5e4",
   "metadata": {},
   "outputs": [],
   "source": [
    "def mostFrequentDigitSum(n):\n",
    "    a, c, s = [n], n, lambda x: sum(map(int, str(x)))\n",
    "    while c > 0:\n",
    "        c -= s(c)\n",
    "        a.append(c)\n",
    "    a = sorted(list(map(s, a)), reverse=True)\n",
    "    return max(a, key=a.count)"
   ]
  },
  {
   "cell_type": "code",
   "execution_count": 108,
   "id": "70eaf822",
   "metadata": {},
   "outputs": [],
   "source": [
    "def step(x):\n",
    "    return x - sum([int(i) for i in str(x)])\n",
    "\n",
    "def mostFrequentDigitSum(n):\n",
    "    lst = []\n",
    "    while n > 0:\n",
    "        lst.append(n)\n",
    "        n=step(n)\n",
    "    steps2 = sorted([sum([int(i) for i in str(val)]) for val in lst])[::-1]\n",
    "    print(steps2)\n",
    "    return max(steps2, key=steps2.count)"
   ]
  },
  {
   "cell_type": "code",
   "execution_count": 109,
   "id": "fc724543",
   "metadata": {},
   "outputs": [
    {
     "name": "stdout",
     "output_type": "stream",
     "text": [
      "[36, 27, 27, 27, 27, 27, 27, 27, 27, 27, 27, 27, 27, 27, 27, 27, 27, 27, 27, 27, 27, 27, 27, 27, 27, 27, 27, 27, 27, 27, 27, 27, 27, 27, 27, 27, 27, 27, 27, 27, 27, 27, 27, 27, 27, 27, 27, 27, 27, 27, 27, 27, 27, 27, 27, 27, 27, 27, 27, 27, 27, 27, 27, 27, 27, 27, 27, 27, 27, 27, 27, 27, 27, 27, 27, 27, 27, 27, 27, 27, 27, 27, 27, 27, 27, 18, 18, 18, 18, 18, 18, 18, 18, 18, 18, 18, 18, 18, 18, 18, 18, 18, 18, 18, 18, 18, 18, 18, 18, 18, 18, 18, 18, 18, 18, 18, 18, 18, 18, 18, 18, 18, 18, 18, 18, 18, 18, 18, 18, 18, 18, 18, 18, 18, 18, 18, 18, 18, 18, 18, 18, 18, 18, 18, 18, 18, 18, 18, 18, 18, 18, 18, 18, 18, 18, 18, 18, 18, 18, 18, 18, 18, 18, 18, 18, 18, 18, 18, 18, 18, 18, 18, 18, 18, 18, 18, 18, 18, 18, 18, 18, 18, 18, 18, 18, 18, 18, 18, 18, 18, 18, 18, 18, 18, 18, 18, 18, 18, 18, 18, 18, 18, 18, 18, 18, 18, 18, 18, 18, 18, 18, 18, 18, 18, 18, 18, 18, 18, 18, 18, 18, 18, 18, 18, 18, 18, 18, 18, 18, 18, 18, 18, 18, 18, 18, 18, 18, 18, 18, 18, 18, 18, 18, 18, 18, 18, 18, 18, 18, 18, 18, 18, 18, 18, 18, 18, 18, 18, 18, 18, 18, 18, 18, 18, 18, 18, 18, 18, 18, 18, 18, 18, 18, 18, 18, 18, 18, 18, 18, 18, 18, 18, 18, 18, 18, 18, 18, 18, 18, 18, 18, 18, 18, 18, 18, 18, 18, 18, 18, 18, 18, 18, 18, 18, 18, 18, 18, 18, 18, 18, 18, 18, 18, 18, 18, 18, 18, 18, 18, 18, 18, 18, 18, 18, 18, 18, 18, 18, 18, 18, 18, 18, 18, 18, 18, 18, 18, 18, 18, 18, 18, 18, 18, 18, 18, 18, 18, 18, 18, 18, 18, 18, 18, 18, 18, 18, 18, 18, 18, 18, 18, 18, 18, 18, 18, 18, 18, 18, 18, 18, 18, 18, 18, 18, 18, 18, 18, 18, 18, 18, 18, 18, 18, 18, 18, 18, 18, 18, 18, 18, 18, 18, 18, 18, 18, 18, 18, 18, 18, 18, 18, 18, 18, 18, 18, 18, 18, 18, 18, 18, 18, 18, 18, 18, 18, 9, 9, 9, 9, 9, 9, 9, 9, 9, 9, 9, 9, 9, 9, 9, 9, 9, 9, 9, 9, 9, 9, 9, 9, 9, 9, 9, 9, 9, 9, 9, 9, 9, 9, 9, 9, 9, 9, 9, 9, 9, 9, 9, 9, 9, 9, 9, 9, 9, 9, 9, 9, 9, 9, 9, 9, 9, 9, 9, 9, 9, 9, 9, 9, 9, 9, 9, 9, 9, 9, 9, 9, 9, 9, 9, 9, 9, 9, 9, 9, 9, 9, 9, 9, 9, 9, 9, 9, 9, 9, 9, 9, 9, 9, 9, 9, 9, 9, 9, 9, 9, 9, 9, 9, 9, 9, 9, 9, 9, 9, 9, 9, 9, 9, 9, 9, 9, 9, 9, 9, 9, 9, 9, 9, 9, 9, 9, 9, 9, 9, 9, 9, 9, 9, 9, 9, 9, 9, 9, 9, 9, 9, 9, 9, 9, 9, 9, 9, 9, 9, 9, 9, 9, 9, 9, 9, 9, 9, 9, 9, 9, 9, 9, 9, 9, 9, 9, 9, 9, 9, 9, 9, 9, 9, 9, 9, 9, 9, 9, 9, 9, 9, 9, 9, 9, 9, 9, 9, 9, 9, 9, 9, 9, 9, 9, 9, 9]\n"
     ]
    },
    {
     "data": {
      "text/plain": [
       "18"
      ]
     },
     "execution_count": 109,
     "metadata": {},
     "output_type": "execute_result"
    }
   ],
   "source": [
    "n = 88\n",
    "mostFrequentDigitSum(10017)                   "
   ]
  },
  {
   "cell_type": "markdown",
   "id": "444c6eb4",
   "metadata": {},
   "source": [
    "### Number of Clans"
   ]
  },
  {
   "cell_type": "code",
   "execution_count": 112,
   "id": "780731cf",
   "metadata": {},
   "outputs": [],
   "source": [
    "def numberOfClans(divisors, k):\n",
    "    return len(set([tuple([x%y==0 for y in divisors]) for x in range(1,k+1)]))"
   ]
  },
  {
   "cell_type": "code",
   "execution_count": 114,
   "id": "9d9d0b29",
   "metadata": {},
   "outputs": [],
   "source": [
    "def numberOfClans(divisors, k):\n",
    "    a=set()\n",
    "    for x in range(1, k+1):\n",
    "        s=''\n",
    "        for y in divisors:\n",
    "            if x%y==0:\n",
    "                s+='1'\n",
    "            else:\n",
    "                s+='0'\n",
    "        a.add(s)\n",
    "    return len(a)"
   ]
  },
  {
   "cell_type": "code",
   "execution_count": 116,
   "id": "1157719c",
   "metadata": {},
   "outputs": [],
   "source": [
    "def numberOfClans(divisors, k):\n",
    "    x, y = list(range(1, k+1)), {}\n",
    "    for n in x:\n",
    "        l = []\n",
    "        for d in divisors:\n",
    "            l.append(n%d == 0)\n",
    "        y[n] = l\n",
    "    return len(set([tuple(q) for q in y.values()]))"
   ]
  },
  {
   "cell_type": "code",
   "execution_count": 117,
   "id": "d8f164cf",
   "metadata": {},
   "outputs": [
    {
     "data": {
      "text/plain": [
       "4"
      ]
     },
     "execution_count": 117,
     "metadata": {},
     "output_type": "execute_result"
    }
   ],
   "source": [
    "divisors = [2, 3] \n",
    "k = 6\n",
    "numberOfClans(divisors, k)"
   ]
  },
  {
   "cell_type": "code",
   "execution_count": null,
   "id": "9a09ac9b",
   "metadata": {},
   "outputs": [],
   "source": []
  },
  {
   "cell_type": "code",
   "execution_count": null,
   "id": "c2f800e6",
   "metadata": {},
   "outputs": [],
   "source": []
  }
 ],
 "metadata": {
  "kernelspec": {
   "display_name": "Python 3",
   "language": "python",
   "name": "python3"
  },
  "language_info": {
   "codemirror_mode": {
    "name": "ipython",
    "version": 3
   },
   "file_extension": ".py",
   "mimetype": "text/x-python",
   "name": "python",
   "nbconvert_exporter": "python",
   "pygments_lexer": "ipython3",
   "version": "3.8.10"
  }
 },
 "nbformat": 4,
 "nbformat_minor": 5
}
