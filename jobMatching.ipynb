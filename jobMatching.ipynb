{
 "cells": [
  {
   "cell_type": "markdown",
   "id": "f5991305",
   "metadata": {},
   "source": [
    "Hay algunas oportunidades de trabajo en una empresa. Y hay algunos candidatos para estos trabajos. El candidato puede ser contratado para un trabajo si tiene todas las habilidades que se necesitan para este trabajo. Hay algunas habilidades distintas que pueden ser necesarias para los puestos de trabajo. La empresa sólo necesita una persona para cada puesto de trabajo. Además, cada candidato sólo puede ser contratado para un puesto de trabajo y el beneficio de contratar a alguien para el i-ésimo puesto es el beneficio[i]. El beneficio de la contratación para el conjunto de puestos de trabajo es igual a la suma de los beneficios de cada puesto de trabajo en el conjunto. Para el conjunto vacío es 0.\n",
    "\n",
    "Tu tarea es calcular el beneficio máximo después de contratar a un subconjunto de candidatos para un subconjunto de puestos de trabajo."
   ]
  },
  {
   "cell_type": "markdown",
   "id": "14fa72a4",
   "metadata": {},
   "source": [
    "Example\n",
    "\n",
    "* For profits = [4, 10], skillsForJobs = [[true, false], [false, true]], and skillsOfCandidates = [[true, true], [true, false]], the output should be\n",
    "jobMatching(profits, skillsForJobs, skillsOfCandidates) = 14;\n",
    "\n",
    "* For profits = [5], skillsForJobs = [[true]], and skillsOfCandidates = [[true]], the output should be\n",
    "jobMatching(profits, skillsForJobs, skillsOfCandidates) = 5."
   ]
  },
  {
   "cell_type": "code",
   "execution_count": 114,
   "id": "0d99a3aa",
   "metadata": {},
   "outputs": [],
   "source": [
    "def jobMatching(profits, skillsForJobs, skillsOfCandidates):  \n",
    "    \n",
    "    if (1 > len(profits)) or (len(profits) >= 50):  \n",
    "        return -1\n",
    "    \n",
    "    resultado = []\n",
    "    \n",
    "    for i in range (len(profits)):\n",
    "        \n",
    "        if (0 >= profits[i]) or (profits[i] >= 10^6):\n",
    "            return -1\n",
    "        \n",
    "        for skill in skillsForJobs:\n",
    "            \n",
    "            if skill[i] == True:\n",
    "                skill[i] = profits[i]\n",
    "            else:\n",
    "                skill[i]=0\n",
    "            resultado.append(skill)\n",
    "        # resultado = resultado[:len(profits)]\n",
    "        print(resultado)\n",
    " \n",
    "    res = 0   \n",
    "    for i in range (len(skillsOfCandidates)):\n",
    "        for j in range(len(resultado)): \n",
    "            if skillsOfCandidates[i][j] == True:               \n",
    "                res = res + resultado[i][j]\n",
    "            \n",
    "               \n",
    "        \n",
    "       \n",
    "    return res\n",
    "        \n",
    "    "
   ]
  },
  {
   "cell_type": "code",
   "execution_count": 181,
   "id": "e445a0a0",
   "metadata": {},
   "outputs": [],
   "source": [
    "import numpy as np\n",
    "\n",
    "def jobMatching(profits, skillsForJobs, skillsOfCandidates):\n",
    "    np_profits = np.array(profits) \n",
    "    np_skillsForJobs = np.array(skillsForJobs) \n",
    "    np_skillsOfCandidates = np.array(skillsOfCandidates) \n",
    "    \n",
    "    res1 = []\n",
    "    for skill in skillsOfCandidates:\n",
    "        for i in range(len(skill)):\n",
    "            if skill[i] == True:\n",
    "                skill[i] = profits[i]\n",
    "            else:\n",
    "                skill[i] = 0   \n",
    "        res1.append(skill)     \n",
    "    res1 = np.array(res1)\n",
    "    #res1 = res1[np_skillsForJobs]\n",
    "    print(res1)\n",
    "    \n",
    "    while len(skillsForJobs)>0 :\n",
    "        for skill in skillsForJobs:\n",
    "            \n",
    "    \n",
    "    #print(np_skillsOfCandidates)"
   ]
  },
  {
   "cell_type": "code",
   "execution_count": 182,
   "id": "0f4d8f19",
   "metadata": {},
   "outputs": [
    {
     "name": "stdout",
     "output_type": "stream",
     "text": [
      "[[ 4 10]\n",
      " [ 4  0]]\n"
     ]
    },
    {
     "ename": "KeyboardInterrupt",
     "evalue": "",
     "output_type": "error",
     "traceback": [
      "\u001b[0;31m---------------------------------------------------------------------------\u001b[0m",
      "\u001b[0;31mKeyboardInterrupt\u001b[0m                         Traceback (most recent call last)",
      "\u001b[0;32m<ipython-input-182-2ea5e9c73d46>\u001b[0m in \u001b[0;36m<module>\u001b[0;34m\u001b[0m\n\u001b[1;32m      2\u001b[0m \u001b[0mskillsForJobs\u001b[0m \u001b[0;34m=\u001b[0m \u001b[0;34m[\u001b[0m\u001b[0;34m[\u001b[0m\u001b[0;32mTrue\u001b[0m\u001b[0;34m,\u001b[0m \u001b[0;32mFalse\u001b[0m\u001b[0;34m]\u001b[0m\u001b[0;34m,\u001b[0m \u001b[0;34m[\u001b[0m\u001b[0;32mFalse\u001b[0m\u001b[0;34m,\u001b[0m \u001b[0;32mTrue\u001b[0m\u001b[0;34m]\u001b[0m\u001b[0;34m]\u001b[0m\u001b[0;34m\u001b[0m\u001b[0;34m\u001b[0m\u001b[0m\n\u001b[1;32m      3\u001b[0m \u001b[0mskillsOfCandidates\u001b[0m \u001b[0;34m=\u001b[0m \u001b[0;34m[\u001b[0m\u001b[0;34m[\u001b[0m\u001b[0;32mTrue\u001b[0m\u001b[0;34m,\u001b[0m \u001b[0;32mTrue\u001b[0m\u001b[0;34m]\u001b[0m\u001b[0;34m,\u001b[0m \u001b[0;34m[\u001b[0m\u001b[0;32mTrue\u001b[0m\u001b[0;34m,\u001b[0m \u001b[0;32mFalse\u001b[0m\u001b[0;34m]\u001b[0m\u001b[0;34m]\u001b[0m\u001b[0;34m\u001b[0m\u001b[0;34m\u001b[0m\u001b[0m\n\u001b[0;32m----> 4\u001b[0;31m \u001b[0mprint\u001b[0m\u001b[0;34m(\u001b[0m\u001b[0mjobMatching\u001b[0m\u001b[0;34m(\u001b[0m\u001b[0mprofits\u001b[0m\u001b[0;34m,\u001b[0m \u001b[0mskillsForJobs\u001b[0m\u001b[0;34m,\u001b[0m \u001b[0mskillsOfCandidates\u001b[0m\u001b[0;34m)\u001b[0m\u001b[0;34m)\u001b[0m \u001b[0;31m# 14\u001b[0m\u001b[0;34m\u001b[0m\u001b[0;34m\u001b[0m\u001b[0m\n\u001b[0m",
      "\u001b[0;32m<ipython-input-181-3b048a880783>\u001b[0m in \u001b[0;36mjobMatching\u001b[0;34m(profits, skillsForJobs, skillsOfCandidates)\u001b[0m\n\u001b[1;32m     18\u001b[0m     \u001b[0mprint\u001b[0m\u001b[0;34m(\u001b[0m\u001b[0mres1\u001b[0m\u001b[0;34m)\u001b[0m\u001b[0;34m\u001b[0m\u001b[0;34m\u001b[0m\u001b[0m\n\u001b[1;32m     19\u001b[0m \u001b[0;34m\u001b[0m\u001b[0m\n\u001b[0;32m---> 20\u001b[0;31m     \u001b[0;32mwhile\u001b[0m \u001b[0mlen\u001b[0m\u001b[0;34m(\u001b[0m\u001b[0mskillsForJobs\u001b[0m\u001b[0;34m)\u001b[0m\u001b[0;34m>\u001b[0m\u001b[0;36m0\u001b[0m \u001b[0;34m:\u001b[0m\u001b[0;34m\u001b[0m\u001b[0;34m\u001b[0m\u001b[0m\n\u001b[0m\u001b[1;32m     21\u001b[0m         \u001b[0;32mpass\u001b[0m\u001b[0;34m\u001b[0m\u001b[0;34m\u001b[0m\u001b[0m\n\u001b[1;32m     22\u001b[0m \u001b[0;34m\u001b[0m\u001b[0m\n",
      "\u001b[0;31mKeyboardInterrupt\u001b[0m: "
     ]
    }
   ],
   "source": [
    "profits = [4, 10]\n",
    "skillsForJobs = [[True, False], [False, True]]\n",
    "skillsOfCandidates = [[True, True], [True, False]]\n",
    "print(jobMatching(profits, skillsForJobs, skillsOfCandidates)) # 14"
   ]
  },
  {
   "cell_type": "code",
   "execution_count": 131,
   "id": "e481782e",
   "metadata": {},
   "outputs": [
    {
     "ename": "TypeError",
     "evalue": "int() argument must be a string, a bytes-like object or a number, not 'list'",
     "output_type": "error",
     "traceback": [
      "\u001b[0;31m---------------------------------------------------------------------------\u001b[0m",
      "\u001b[0;31mTypeError\u001b[0m                                 Traceback (most recent call last)",
      "\u001b[0;32m<ipython-input-131-43c3841a3032>\u001b[0m in \u001b[0;36m<module>\u001b[0;34m\u001b[0m\n\u001b[1;32m      2\u001b[0m \u001b[0mskillsForJobs\u001b[0m \u001b[0;34m=\u001b[0m \u001b[0;34m[\u001b[0m\u001b[0;34m[\u001b[0m\u001b[0;32mTrue\u001b[0m\u001b[0;34m]\u001b[0m\u001b[0;34m]\u001b[0m\u001b[0;34m\u001b[0m\u001b[0;34m\u001b[0m\u001b[0m\n\u001b[1;32m      3\u001b[0m \u001b[0mskillsOfCandidates\u001b[0m \u001b[0;34m=\u001b[0m \u001b[0;34m[\u001b[0m\u001b[0;34m[\u001b[0m\u001b[0;32mTrue\u001b[0m\u001b[0;34m]\u001b[0m\u001b[0;34m]\u001b[0m\u001b[0;34m\u001b[0m\u001b[0;34m\u001b[0m\u001b[0m\n\u001b[0;32m----> 4\u001b[0;31m \u001b[0mjobMatching\u001b[0m\u001b[0;34m(\u001b[0m\u001b[0mprofits\u001b[0m\u001b[0;34m,\u001b[0m \u001b[0mskillsForJobs\u001b[0m\u001b[0;34m,\u001b[0m \u001b[0mskillsOfCandidates\u001b[0m\u001b[0;34m)\u001b[0m     \u001b[0;31m# 5.\u001b[0m\u001b[0;34m\u001b[0m\u001b[0;34m\u001b[0m\u001b[0m\n\u001b[0m",
      "\u001b[0;32m<ipython-input-129-6156f0ea00bb>\u001b[0m in \u001b[0;36mjobMatching\u001b[0;34m(profits, skillsForJobs, skillsOfCandidates)\u001b[0m\n\u001b[1;32m      7\u001b[0m \u001b[0;34m\u001b[0m\u001b[0m\n\u001b[1;32m      8\u001b[0m    \u001b[0;31m# np =\u001b[0m\u001b[0;34m\u001b[0m\u001b[0;34m\u001b[0m\u001b[0;34m\u001b[0m\u001b[0m\n\u001b[0;32m----> 9\u001b[0;31m     \u001b[0mv\u001b[0m \u001b[0;34m=\u001b[0m \u001b[0mint\u001b[0m\u001b[0;34m(\u001b[0m\u001b[0mskillsForJobs\u001b[0m\u001b[0;34m)\u001b[0m \u001b[0;34m*\u001b[0m \u001b[0mint\u001b[0m\u001b[0;34m(\u001b[0m\u001b[0mskillsOfCandidates\u001b[0m\u001b[0;34m)\u001b[0m\u001b[0;34m\u001b[0m\u001b[0;34m\u001b[0m\u001b[0m\n\u001b[0m\u001b[1;32m     10\u001b[0m     \u001b[0mprint\u001b[0m\u001b[0;34m(\u001b[0m\u001b[0mv\u001b[0m\u001b[0;34m)\u001b[0m\u001b[0;34m\u001b[0m\u001b[0;34m\u001b[0m\u001b[0m\n",
      "\u001b[0;31mTypeError\u001b[0m: int() argument must be a string, a bytes-like object or a number, not 'list'"
     ]
    }
   ],
   "source": [
    "profits = [5]\n",
    "skillsForJobs = [[True]]\n",
    "skillsOfCandidates = [[True]]\n",
    "jobMatching(profits, skillsForJobs, skillsOfCandidates)     # 5."
   ]
  },
  {
   "cell_type": "code",
   "execution_count": null,
   "id": "a634dea9",
   "metadata": {},
   "outputs": [],
   "source": []
  }
 ],
 "metadata": {
  "kernelspec": {
   "display_name": "Python 3",
   "language": "python",
   "name": "python3"
  },
  "language_info": {
   "codemirror_mode": {
    "name": "ipython",
    "version": 3
   },
   "file_extension": ".py",
   "mimetype": "text/x-python",
   "name": "python",
   "nbconvert_exporter": "python",
   "pygments_lexer": "ipython3",
   "version": "3.8.10"
  }
 },
 "nbformat": 4,
 "nbformat_minor": 5
}
