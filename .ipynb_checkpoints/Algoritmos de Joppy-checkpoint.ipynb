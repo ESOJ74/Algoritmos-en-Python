{
 "cells": [
  {
   "cell_type": "markdown",
   "id": "49efdc94",
   "metadata": {},
   "source": [
    "## Run Length Encoding (RLE) Data Compression Algorithm"
   ]
  },
  {
   "cell_type": "code",
   "execution_count": 49,
   "id": "5694b3c8",
   "metadata": {},
   "outputs": [],
   "source": [
    "def runLengthEncoding(inputString):\n",
    "    encoding = \"\" # stores output string \n",
    "    i = 0\n",
    "    while i < len(inputString):\n",
    "        # count occurrences of character at index `i`\n",
    "        count = 1 \n",
    "        while i + 1 < len(inputString) and inputString[i] == inputString[i + 1]:\n",
    "            count = count + 1\n",
    "            i = i + 1 \n",
    "        # append current character and its count to the result\n",
    "        encoding += str(count) + inputString[i]\n",
    "        i = i + 1 \n",
    "    return encoding        "
   ]
  },
  {
   "cell_type": "code",
   "execution_count": 50,
   "id": "b34bf69c",
   "metadata": {},
   "outputs": [
    {
     "data": {
      "text/plain": [
       "'1a2b4a1c'"
      ]
     },
     "execution_count": 50,
     "metadata": {},
     "output_type": "execute_result"
    }
   ],
   "source": [
    "runLengthEncoding(\"abbaaaac\")"
   ]
  },
  {
   "cell_type": "markdown",
   "id": "fea94bce",
   "metadata": {},
   "source": [
    "## Reverse the order of words in a given string sentence. You can assume that sentence does not have any leading, trailing or repeating spaces."
   ]
  },
  {
   "cell_type": "code",
   "execution_count": 54,
   "id": "8a110c26",
   "metadata": {},
   "outputs": [],
   "source": [
    "# Function to reverse each word in the string\n",
    "def reverse_word(s, start, end):\n",
    "    while start < end:\n",
    "        s[start], s[end] = s[end], s[start]\n",
    "        start = start + 1\n",
    "        end -= 1 \n",
    "\n",
    "def reverseSentence(sentence):\n",
    "    # Convert string to list to use it as a char array\n",
    "    s = list(sentence)\n",
    "    start = 0\n",
    "    while True:     \n",
    "        try:\n",
    "        # Find the next space\n",
    "            end = s.index(' ', start)\n",
    "            reverse_word(s, start, end - 1)\n",
    "            start = end + 1 \n",
    "        except ValueError: \n",
    "        # Reverse the last word\n",
    "            reverse_word(s, start, len(s) - 1)\n",
    "            break \n",
    "    # Reverse the entire list\n",
    "    s.reverse()\n",
    "    return \"\".join(s)"
   ]
  },
  {
   "cell_type": "code",
   "execution_count": 55,
   "id": "03649409",
   "metadata": {},
   "outputs": [
    {
     "name": "stdout",
     "output_type": "stream",
     "text": [
      "dog bites Man\n"
     ]
    }
   ],
   "source": [
    "print(reverseSentence(\"Man bites dog\"))"
   ]
  },
  {
   "cell_type": "markdown",
   "id": "ebde694a",
   "metadata": {},
   "source": [
    "## Dado un arreglo 3D arr, su tarea es modificarlo de la siguiente manera: Para cada i, j y k tal que arr [i] [j] [k] = 0, establezca todos los elementos en la i-ésima fila, el j-ésima columna y la k-ésima profundidad a 0."
   ]
  },
  {
   "cell_type": "markdown",
   "id": "1f0f8d20",
   "metadata": {},
   "source": [
    "Nota: Intente resolver esta tarea en O (arr.length · arr [0] .length · arr [0] [0] .length) tiempo, ya que esto es lo que se le pedirá que haga en una entrevista"
   ]
  },
  {
   "cell_type": "code",
   "execution_count": 1,
   "id": "51298f06",
   "metadata": {},
   "outputs": [],
   "source": [
    "arr = [[[1,  2,  3,  4,  0,  6],\n",
    "        [7,  0, -9, 10, 11, 12],\n",
    "        [0, 14, 15, 16, 17, 18]],\n",
    "       [[0,  1, 23, 17, 29, 13],\n",
    "        [1, -2,  3,  4,  5, -6],\n",
    "        [7,  0,  9,  8,  6,  1]]]"
   ]
  },
  {
   "cell_type": "code",
   "execution_count": 6,
   "id": "ba9323e8",
   "metadata": {},
   "outputs": [],
   "source": [
    "def mark3DArray(arr):\n",
    "    pass"
   ]
  },
  {
   "cell_type": "code",
   "execution_count": 5,
   "id": "1230a1c0",
   "metadata": {},
   "outputs": [
    {
     "name": "stdout",
     "output_type": "stream",
     "text": [
      "[[[1, 2, 3, 4, 0, 6], [7, 0, -9, 10, 11, 12], [0, 14, 15, 16, 17, 18]], [[0, 1, 23, 17, 29, 13], [1, -2, 3, 4, 5, -6], [7, 0, 9, 8, 6, 1]]]\n"
     ]
    }
   ],
   "source": [
    "mark3DArray(arr)"
   ]
  },
  {
   "cell_type": "markdown",
   "id": "bd9659d0",
   "metadata": {},
   "source": [
    "## camelCaseSeparation\n",
    "__Está desarrollando un nuevo lenguaje de programación y actualmente está trabajando en nombres de variables. Tiene una lista de palabras que considera buenas y que podrían usarse para nombres de variables. Todas las cadenas de palabras constan de letras minúsculas en inglés.__\n",
    "\n",
    "__Un nombre de variable compleja es una combinación (posiblemente con repeticiones) de algunas cadenas de palabras, escritas en CamelCase. En otras palabras, todas las cadenas se escriben sin espacios y cada cadena (con la posible excepción de la primera) comienza con una letra mayúscula.\n",
    "\n",
    "__Su lenguaje de programación debe aceptar únicamente nombres de variables complejas.\n",
    "\n",
    "__Debe verificar si el nombre de la variable es aceptado por su lenguaje de programación."
   ]
  },
  {
   "cell_type": "code",
   "execution_count": 79,
   "id": "4ea71d10",
   "metadata": {},
   "outputs": [],
   "source": [
    "import re\n",
    "\n",
    "def camelCaseSeparation(words, variableName):\n",
    "    \n",
    "    pattP = re.compile(r'(.)([A-Z][a-z]+)')\n",
    "    pattF = re.compile('([a-z0-9])([A-Z])')\n",
    "    \n",
    "    lis = pattF.sub(r'\\1-\\2', pattP.sub(r'\\1-\\2', variableName)).lower().split(\"-\")\n",
    "    \n",
    "    for palabra in lis:\n",
    "        if palabra not in words and palabra[0] not in words:\n",
    "            return False\n",
    "    return True "
   ]
  },
  {
   "cell_type": "code",
   "execution_count": 84,
   "id": "3d009494",
   "metadata": {},
   "outputs": [
    {
     "name": "stdout",
     "output_type": "stream",
     "text": [
      "False\n",
      "True\n",
      "True\n",
      "False\n",
      "True\n"
     ]
    }
   ],
   "source": [
    "print(camelCaseSeparation([\"is\", \"valid\", \"right\"], \"IsValId\"))\n",
    "print(camelCaseSeparation([\"is\", \"valid\", \"right\"], \"IsValid\"))\n",
    "print(camelCaseSeparation([\"is\", \"valid\", \"right\"], \"isValid\"))\n",
    "print(camelCaseSeparation([\"is\", \"right\"], \"isValid\"))\n",
    "print(camelCaseSeparation([\"a\"], \"AAAAAAAA\"))"
   ]
  },
  {
   "cell_type": "markdown",
   "id": "2752068f",
   "metadata": {},
   "source": [
    "## Find the greatest common divisor of two given integer numbers. Each number is given in the form of its prime factorization - a sorted array of all prime factors."
   ]
  },
  {
   "cell_type": "code",
   "execution_count": 85,
   "id": "5837a8bd",
   "metadata": {},
   "outputs": [],
   "source": [
    "def factorizedGCD(a, b):\n",
    "    j = 0\n",
    "    result = 1\n",
    "    for i in range(len(a)):\n",
    "        while j < len(b) and a[i] > b[j]:\n",
    "            j += 1\n",
    "        if j < len(b) and a[i] == b[j]:\n",
    "            result *= b[j]\n",
    "            j += 1\n",
    "    return result"
   ]
  },
  {
   "cell_type": "code",
   "execution_count": 86,
   "id": "46bf8a4d",
   "metadata": {},
   "outputs": [
    {
     "data": {
      "text/plain": [
       "18"
      ]
     },
     "execution_count": 86,
     "metadata": {},
     "output_type": "execute_result"
    }
   ],
   "source": [
    "factorizedGCD([2, 3, 3, 3, 5] , [2, 2, 2, 2, 3, 3])"
   ]
  },
  {
   "cell_type": "markdown",
   "id": "8e508693",
   "metadata": {},
   "source": [
    "## You are given a two-digit integer n. Return the sum of its digits.\n",
    "\n",
    "Example\n",
    "\n",
    "For n = 29, the output should be\n",
    "addTwoDigits(n) = 11."
   ]
  },
  {
   "cell_type": "code",
   "execution_count": 21,
   "id": "579a0faf",
   "metadata": {},
   "outputs": [],
   "source": [
    "def addTwoDigits(n):\n",
    "    lista = list(map(int, str(n)))\n",
    "    res = 0\n",
    "    for n in lista:\n",
    "        res = res + n        \n",
    "    return res"
   ]
  },
  {
   "cell_type": "code",
   "execution_count": 22,
   "id": "f942b6fc",
   "metadata": {},
   "outputs": [
    {
     "name": "stdout",
     "output_type": "stream",
     "text": [
      "[2, 9]\n",
      "11\n"
     ]
    }
   ],
   "source": [
    "print(addTwoDigits(29))"
   ]
  },
  {
   "cell_type": "markdown",
   "id": "e76d88b3",
   "metadata": {},
   "source": [
    "## optimalChangeDeliver\n",
    "Eres cajero de una tienda en la que el precio de cada artículo oscila entre 1 y 99 céntimos. Los clientes siempre te dan 100 céntimos para pagar sus compras. Tu tarea consiste en darles el cambio utilizando monedas de 25, 10, 5 y 1 céntimo. De todas las formas posibles de dar el cambio, elige la que tenga el menor número de monedas."
   ]
  },
  {
   "cell_type": "code",
   "execution_count": 99,
   "id": "5c46df27",
   "metadata": {},
   "outputs": [],
   "source": [
    "def optimalChangeDeliver(change):\n",
    "    monedas=[25,10,5,1]\n",
    "    resultado = 0\n",
    "    for moneda in monedas:\n",
    "        \n",
    "        if (change%moneda) == 0:\n",
    "            return int(resultado + change/moneda)\n",
    "        else:\n",
    "            resultado = int(resultado + change/moneda)\n",
    "            change = change - (moneda * int(change/moneda))"
   ]
  },
  {
   "cell_type": "code",
   "execution_count": 104,
   "id": "1464acdf",
   "metadata": {},
   "outputs": [
    {
     "name": "stdout",
     "output_type": "stream",
     "text": [
      "3\n",
      "4\n",
      "2\n"
     ]
    }
   ],
   "source": [
    "print(optimalChangeDeliver(36))\n",
    "print(optimalChangeDeliver(37))\n",
    "print(optimalChangeDeliver(50))"
   ]
  },
  {
   "cell_type": "markdown",
   "id": "115aafd7",
   "metadata": {},
   "source": [
    "## Given the string, check if it is a palindrome."
   ]
  },
  {
   "cell_type": "code",
   "execution_count": 1,
   "id": "0f96c07b",
   "metadata": {},
   "outputs": [
    {
     "name": "stdout",
     "output_type": "stream",
     "text": [
      "Yes\n"
     ]
    }
   ],
   "source": [
    "def isPalindrome(s):\n",
    "    return s == s[::-1] "
   ]
  },
  {
   "cell_type": "code",
   "execution_count": 4,
   "id": "7a517c60",
   "metadata": {},
   "outputs": [
    {
     "name": "stdout",
     "output_type": "stream",
     "text": [
      "True\n",
      "True\n",
      "False\n"
     ]
    }
   ],
   "source": [
    "print(isPalindrome(\"malayalam\"))\n",
    "print(isPalindrome(\"malalam\"))\n",
    "print(isPalindrome(\"layalam\"))"
   ]
  },
  {
   "cell_type": "markdown",
   "id": "5da96b9d",
   "metadata": {},
   "source": [
    "## countVowelConsonant\n",
    "You are given a string s that consists of only lowercase English letters. If vowels ('a', 'e', 'i', 'o', and 'u') are given a value of 1 and consonants are given a value of 2, return the sum of all of the letters in the input string."
   ]
  },
  {
   "cell_type": "code",
   "execution_count": 13,
   "id": "e789da93",
   "metadata": {},
   "outputs": [],
   "source": [
    "def countVowelConsonant(s):\n",
    "    \n",
    "    s = s.lower()\n",
    "    vocales = [\"a\",\"e\",\"i\",\"o\",\"u\"]\n",
    "    resultado = 0\n",
    "\n",
    "    for letra in s:\n",
    "        if(letra in vocales):\n",
    "            resultado = resultado + 1\n",
    "        else:\n",
    "            resultado = resultado + 2\n",
    "    return resultado"
   ]
  },
  {
   "cell_type": "code",
   "execution_count": 14,
   "id": "46f0a7f0",
   "metadata": {},
   "outputs": [
    {
     "name": "stdout",
     "output_type": "stream",
     "text": [
      "4\n",
      "2\n",
      "8\n"
     ]
    }
   ],
   "source": [
    "print(countVowelConsonant(\"ele\"))\n",
    "print(countVowelConsonant(\"ae\"))\n",
    "print(countVowelConsonant(\"fecha\"))"
   ]
  },
  {
   "cell_type": "markdown",
   "id": "204897b3",
   "metadata": {},
   "source": [
    "## rotateMatrix180\n",
    "Note: Your solution should only use O(1) additional memory, since that's what you'll be asked to do during an interview.\n",
    "\n",
    "Given a matrix of integers m, rotate it by 180 degrees.\n",
    "\n",
    "Example\n",
    "\n",
    "For\n",
    "\n",
    "m = [[1, 2, 3, 4],\n",
    "     [5, 6, 7, 8]]\n",
    "the output should be\n",
    "\n",
    "rotateMatrix180(m) = [[8, 7, 6, 5],\n",
    "                      [4, 3, 2, 1]]"
   ]
  },
  {
   "cell_type": "code",
   "execution_count": 60,
   "id": "f4a3a42d",
   "metadata": {},
   "outputs": [],
   "source": [
    "import numpy as np\n",
    "def rotateMatrix180(m):  \n",
    "    return np.rot90(m, 2)\n",
    "    "
   ]
  },
  {
   "cell_type": "code",
   "execution_count": 61,
   "id": "55cc4208",
   "metadata": {},
   "outputs": [
    {
     "name": "stdout",
     "output_type": "stream",
     "text": [
      "[[8 7 6 5]\n",
      " [4 3 2 1]]\n"
     ]
    }
   ],
   "source": [
    "m = [[1, 2, 3, 4], [5, 6, 7, 8]]\n",
    "print(rotateMatrix180(m))"
   ]
  },
  {
   "cell_type": "code",
   "execution_count": 50,
   "id": "b8a45094",
   "metadata": {},
   "outputs": [
    {
     "name": "stdout",
     "output_type": "stream",
     "text": [
      "9 8 7 \n",
      "6 5 4 \n",
      "3 2 1 \n"
     ]
    }
   ],
   "source": [
    "# Python3 program to\n",
    "# rotate a matrix by\n",
    "# 180 degrees\n",
    "N = 3;\n",
    " \n",
    "# Function to Rotate\n",
    "# the matrix by 180 degree\n",
    "def rotateMatrix(mat):\n",
    "     \n",
    "    # Simply print from\n",
    "    # last cell to first cell.\n",
    "    i = N - 1;\n",
    "    while(i >= 0):\n",
    "        j = N - 1;\n",
    "        while(j >= 0):\n",
    "            print(mat[i][j], end = \" \");\n",
    "            j = j - 1;\n",
    "        print();\n",
    "        i = i - 1;\n",
    " \n",
    "# Driven code\n",
    "mat = [[1, 2, 3],\n",
    "       [ 4, 5, 6 ],\n",
    "       [ 7, 8, 9 ]];\n",
    "rotateMatrix(mat);\n",
    " \n",
    "# This code is contributed\n",
    "# by mits"
   ]
  },
  {
   "cell_type": "markdown",
   "id": "f2917473",
   "metadata": {},
   "source": [
    "## threeCharsDistinct\n",
    "You are given a string s, which consists only of lowercase English letters. Your task is to find the number of adjacent triplets of unique characters within s. In other words, count the number of indices i, such that s[i], s[i + 1], and s[i + 2] are all pairwise distinct."
   ]
  },
  {
   "cell_type": "code",
   "execution_count": 86,
   "id": "24f42b46",
   "metadata": {},
   "outputs": [],
   "source": [
    "def threeCharsDistinct(s):\n",
    "    \n",
    "    resultado = 0\n",
    "    for i in range(len(s)-2):\n",
    "        con = set()\n",
    "        con.add(s[i])\n",
    "        con.add(s[i+1])\n",
    "        con.add(s[i+2])\n",
    "        if len(con) == 3:\n",
    "            resultado = resultado + 1\n",
    "    return resultado\n"
   ]
  },
  {
   "cell_type": "code",
   "execution_count": 88,
   "id": "fc2b8a83",
   "metadata": {},
   "outputs": [
    {
     "name": "stdout",
     "output_type": "stream",
     "text": [
      "3\n",
      "2\n",
      "5\n"
     ]
    }
   ],
   "source": [
    "print(threeCharsDistinct(\"abcdaaae\"))\n",
    "print(threeCharsDistinct(\"abacaba\"))\n",
    "print(threeCharsDistinct(\"asrfghaaaaa\"))"
   ]
  },
  {
   "cell_type": "markdown",
   "id": "6007b971",
   "metadata": {},
   "source": [
    "## upToKDifferences\n",
    "Estás trabajando en un nuevo lenguaje de programación con algunas funciones interesantes para las cadenas. Una de las características que te gustaría implementar consiste en dividir una cadena en subcadenas con un conjunto limitado de caracteres.\n",
    "\n",
    "Dada una cadena de caracteres y un número entero k, su tarea consiste en dividirla en el mínimo número posible de subcadenas de manera que no haya más de k símbolos diferentes en cada una de ellas. Devuelve el mínimo número posible de estas subcadenas.\n",
    "\n",
    "Sugerencia: Itere sobre la cadena str e intente utilizar una estructura Set para mantener todas las letras utilizadas para la subcadena actual. Cada vez que el tamaño del conjunto sea mayor que k, significa que el último símbolo considerado debe ser el primero en una nueva subcadena."
   ]
  },
  {
   "cell_type": "code",
   "execution_count": 163,
   "id": "5491bde9",
   "metadata": {},
   "outputs": [],
   "source": [
    "def upToKDifferences(str, k):\n",
    "    resultado = 0\n",
    "    con = set()\n",
    "    for i in range(len(str)):\n",
    "        con.add(str[i])\n",
    "        if len(con) == k:\n",
    "            resultado = resultado + 1\n",
    "            i=i-1\n",
    "            con = set()\n",
    "    return resultado"
   ]
  },
  {
   "cell_type": "code",
   "execution_count": 164,
   "id": "eb494bf8",
   "metadata": {},
   "outputs": [
    {
     "name": "stdout",
     "output_type": "stream",
     "text": [
      "3\n"
     ]
    }
   ],
   "source": [
    "print(upToKDifferences(\"aabeefegeeccrr\",3))"
   ]
  },
  {
   "cell_type": "markdown",
   "id": "757cbb58",
   "metadata": {},
   "source": [
    "## isInsideTheCircle\n",
    "Given a point and a circle, determine whether the point lies strictly inside the circle."
   ]
  },
  {
   "cell_type": "code",
   "execution_count": 167,
   "id": "a585bfc1",
   "metadata": {},
   "outputs": [],
   "source": [
    "import math\n",
    "def in_circle(center_x, center_y, radius, x, y):\n",
    "    dist = math.sqrt((center_x - x) ** 2 + (center_y - y) ** 2)\n",
    "    return dist <= radius"
   ]
  },
  {
   "cell_type": "code",
   "execution_count": 168,
   "id": "9985d03c",
   "metadata": {},
   "outputs": [
    {
     "data": {
      "text/plain": [
       "True"
      ]
     },
     "execution_count": 168,
     "metadata": {},
     "output_type": "execute_result"
    }
   ],
   "source": [
    "in_circle(0,0,1,0,0)"
   ]
  },
  {
   "cell_type": "code",
   "execution_count": 171,
   "id": "0de6f8d0",
   "metadata": {},
   "outputs": [],
   "source": [
    "def isInsideTheCircle(xa, ya, xc, yc, rc):\n",
    "    dist = math.sqrt((xc - xa) ** 2 + (yc - ya) ** 2)\n",
    "    return dist < rc"
   ]
  },
  {
   "cell_type": "code",
   "execution_count": 172,
   "id": "24247133",
   "metadata": {},
   "outputs": [
    {
     "name": "stdout",
     "output_type": "stream",
     "text": [
      "False\n"
     ]
    }
   ],
   "source": [
    "print(isInsideTheCircle(1,1,4,1,3))"
   ]
  },
  {
   "attachments": {
    "image.png": {
     "image/png": "[encoded data removed]"
    }
   },
   "cell_type": "markdown",
   "id": "64a2dede",
   "metadata": {},
   "source": [
    "## addBorder\n",
    "Given a rectangular matrix of characters, add a border of asterisks(*) to it.\n",
    "![image.png](attachment:image.png)"
   ]
  },
  {
   "cell_type": "code",
   "execution_count": 207,
   "id": "04e61635",
   "metadata": {},
   "outputs": [],
   "source": [
    "def adborder(str):\n",
    "    asteriscos = \"\"\n",
    "    resultado = []\n",
    "    for i in range(len(str[0])+2):\n",
    "        asteriscos = asteriscos + \"*\"\n",
    "    for cadena in str:\n",
    "        cadena = \"*\" + cadena + \"*\"\n",
    "        resultado.append(cadena)\n",
    "    return [asteriscos] + resultado + [asteriscos]"
   ]
  },
  {
   "cell_type": "code",
   "execution_count": 208,
   "id": "74c9a9aa",
   "metadata": {},
   "outputs": [
    {
     "name": "stdout",
     "output_type": "stream",
     "text": [
      "['*****', '*abc*', '*ded*', '*****']\n"
     ]
    }
   ],
   "source": [
    "print(adborder([\"abc\",\n",
    "           \"ded\"]))"
   ]
  },
  {
   "cell_type": "code",
   "execution_count": 9,
   "id": "f1c817bf",
   "metadata": {},
   "outputs": [
    {
     "data": {
      "text/plain": [
       "-2.25"
      ]
     },
     "execution_count": 9,
     "metadata": {},
     "output_type": "execute_result"
    }
   ],
   "source": [
    "-4.5/2"
   ]
  },
  {
   "cell_type": "code",
   "execution_count": 14,
   "id": "75adba3c",
   "metadata": {},
   "outputs": [
    {
     "name": "stdout",
     "output_type": "stream",
     "text": [
      "6\n"
     ]
    }
   ],
   "source": [
    "def countBits(n):\n",
    "    return len(bin(n))-2\n",
    "\n",
    "print (countBits(50))"
   ]
  },
  {
   "cell_type": "markdown",
   "id": "f2c753d5",
   "metadata": {},
   "source": [
    "## brokenKeyboard\n",
    "For text = \"Hello, this is CodeSignal!\" and letters = ['e', 'i', 'h', 'l', 'o', 's'], the output should be brokenKeyboard(text, letters) = 2."
   ]
  },
  {
   "cell_type": "code",
   "execution_count": 47,
   "id": "0245f2b1",
   "metadata": {},
   "outputs": [],
   "source": [
    "def brokenKeyboard(text, letters):\n",
    "    resultado = 0\n",
    "    for palabra in text.split(\" \"):\n",
    "        contador = 0\n",
    "        for letra in palabra.lower():\n",
    "            if (not letra.isalpha() or letra in letters):\n",
    "                contador = contador + 1            \n",
    "            if len(palabra) == contador:\n",
    "                resultado = resultado + 1            \n",
    "    return (resultado)"
   ]
  },
  {
   "cell_type": "code",
   "execution_count": 48,
   "id": "d706037d",
   "metadata": {},
   "outputs": [
    {
     "data": {
      "text/plain": [
       "2"
      ]
     },
     "execution_count": 48,
     "metadata": {},
     "output_type": "execute_result"
    }
   ],
   "source": [
    "text = \"Hello, this is CodeSignal!\"\n",
    "letters = ['e', 'i', 'h', 'l', 'o', 's']\n",
    "brokenKeyboard(text, letters)"
   ]
  },
  {
   "cell_type": "code",
   "execution_count": 49,
   "id": "39c58d89",
   "metadata": {},
   "outputs": [
    {
     "data": {
      "text/plain": [
       "0"
      ]
     },
     "execution_count": 49,
     "metadata": {},
     "output_type": "execute_result"
    }
   ],
   "source": [
    "text = \"Hi, this is Chris!\"\n",
    "letters = ['r', 's', 't', 'c', 'h']\n",
    "brokenKeyboard(text, letters)"
   ]
  },
  {
   "cell_type": "code",
   "execution_count": 94,
   "id": "8bbe91b4",
   "metadata": {},
   "outputs": [],
   "source": [
    "def digitDegree(n):\n",
    "    resultado = 0\n",
    "    while len(str(n))>1:\n",
    "        n = sum(list(map(int, str(n))))  \n",
    "        resultado += 1\n",
    "    return resultado     "
   ]
  },
  {
   "cell_type": "code",
   "execution_count": 97,
   "id": "2ca72edd",
   "metadata": {},
   "outputs": [
    {
     "data": {
      "text/plain": [
       "2"
      ]
     },
     "execution_count": 97,
     "metadata": {},
     "output_type": "execute_result"
    }
   ],
   "source": [
    "digitDegree(188)"
   ]
  },
  {
   "cell_type": "code",
   "execution_count": 105,
   "id": "a66a1f25",
   "metadata": {},
   "outputs": [],
   "source": [
    "import string\n",
    "def isBeautifulString(inputString):\n",
    "    r = [inputString.count(i) for i in string.ascii_lowercase]    \n",
    "    print (r)\n",
    "    print (r[::-1])\n",
    "    print(sorted(r))\n",
    "    return r[::-1] == sorted(r)"
   ]
  },
  {
   "cell_type": "code",
   "execution_count": 131,
   "id": "b648d9eb",
   "metadata": {},
   "outputs": [
    {
     "name": "stdout",
     "output_type": "stream",
     "text": [
      "[4, 3, 2, 0, 0, 0, 0, 0, 0, 0, 0, 0, 0, 0, 0, 0, 0, 0, 0, 0, 0, 0, 0, 0, 1, 0]\n"
     ]
    },
    {
     "data": {
      "text/plain": [
       "'4a3b2c1y'"
      ]
     },
     "execution_count": 131,
     "metadata": {},
     "output_type": "execute_result"
    }
   ],
   "source": [
    "isBeautifulString(\"bbbaacaacy\")"
   ]
  },
  {
   "cell_type": "code",
   "execution_count": 135,
   "id": "2ec1f15e",
   "metadata": {},
   "outputs": [],
   "source": [
    "from itertools import groupby\n",
    "def lineEncoding(s):\n",
    "    x = ''\n",
    "    for k,g in groupby(s):\n",
    "        if y==1:\n",
    "            x += k\n",
    "        else:\n",
    "            x += str(len((list(g)))) + k\n",
    "    return x"
   ]
  },
  {
   "cell_type": "code",
   "execution_count": 161,
   "id": "862854db",
   "metadata": {},
   "outputs": [
    {
     "data": {
      "text/plain": [
       "['[]b', '[]a', '[]c', '[]a', '[]c', '[]y']"
      ]
     },
     "execution_count": 161,
     "metadata": {},
     "output_type": "execute_result"
    }
   ],
   "source": [
    "lineEncoding(\"bbbaacaacy\")"
   ]
  },
  {
   "cell_type": "code",
   "execution_count": 164,
   "id": "2c79e2a8",
   "metadata": {},
   "outputs": [],
   "source": [
    "from itertools import groupby\n",
    "def lineEncoding(s):\n",
    "    x = [k if str(len(list(g)))==1 else str(list(g)) + k for k,g in groupby(s) ]\n",
    "       \n",
    "    return x"
   ]
  },
  {
   "cell_type": "code",
   "execution_count": 194,
   "id": "11659fdc",
   "metadata": {},
   "outputs": [],
   "source": [
    "def longestWord(text):    \n",
    "    return max(text.split(\",\"), key=len)\n",
    "\n",
    "\n",
    "        "
   ]
  },
  {
   "cell_type": "code",
   "execution_count": 195,
   "id": "d71f482f",
   "metadata": {},
   "outputs": [
    {
     "data": {
      "text/plain": [
       "' steady'"
      ]
     },
     "execution_count": 195,
     "metadata": {},
     "output_type": "execute_result"
    }
   ],
   "source": [
    "longestWord(\"ready, steady, go!\")"
   ]
  },
  {
   "cell_type": "code",
   "execution_count": 197,
   "id": "7338f909",
   "metadata": {},
   "outputs": [],
   "source": [
    "def validTime(time):\n",
    "    hora = time.split(\":\")\n",
    "    if hora[0]<0 or hora[0]>24 or hora[1]<0 or hora[1]>59\n",
    "    return True"
   ]
  },
  {
   "cell_type": "code",
   "execution_count": 199,
   "id": "4ce5d722",
   "metadata": {},
   "outputs": [
    {
     "name": "stdout",
     "output_type": "stream",
     "text": [
      "['13', '58']\n"
     ]
    }
   ],
   "source": [
    "print (validTime(\"13:58\"))"
   ]
  },
  {
   "cell_type": "code",
   "execution_count": null,
   "id": "4d3a389a",
   "metadata": {},
   "outputs": [],
   "source": []
  }
 ],
 "metadata": {
  "kernelspec": {
   "display_name": "Python 3",
   "language": "python",
   "name": "python3"
  },
  "language_info": {
   "codemirror_mode": {
    "name": "ipython",
    "version": 3
   },
   "file_extension": ".py",
   "mimetype": "text/x-python",
   "name": "python",
   "nbconvert_exporter": "python",
   "pygments_lexer": "ipython3",
   "version": "3.8.10"
  }
 },
 "nbformat": 4,
 "nbformat_minor": 5
}
