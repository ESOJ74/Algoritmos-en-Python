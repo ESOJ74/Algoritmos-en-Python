{
 "cells": [
  {
   "cell_type": "markdown",
   "id": "83bb6c9a",
   "metadata": {},
   "source": [
    "https://app.codesignal.com/arcade/graphs-arcade/kingdom-roads"
   ]
  },
  {
   "cell_type": "code",
   "execution_count": 73,
   "id": "11ef3cfb",
   "metadata": {},
   "outputs": [
    {
     "data": {
      "text/plain": [
       "'\\ndef newRoadSystem(roadRegister):\\n    return [l.count(True) for l in roadRegister] == [l.count(True) for l in zip(*roadRegister)]\\n'"
      ]
     },
     "execution_count": 73,
     "metadata": {},
     "output_type": "execute_result"
    }
   ],
   "source": [
    "import pandas as pd\n",
    "def newRoadSystem(roadRegister):\n",
    "    df = pd.DataFrame(roadRegister)\n",
    "    for i in range(len(df[0])):\n",
    "        if (sum(df.loc[i]) != sum(df[i])):\n",
    "            return False\n",
    "    return True\n",
    "\n",
    "\"\"\"\n",
    "def newRoadSystem(roadRegister):\n",
    "    for x, y in zip(map(sum, roadRegister), map(sum, zip(*roadRegister))):\n",
    "        if x != y:\n",
    "            return False\n",
    "    return True\n",
    "\"\"\"\n",
    "\n",
    "\"\"\"\n",
    "def newRoadSystem(roadRegister):\n",
    "    return [l.count(True) for l in roadRegister] == [l.count(True) for l in zip(*roadRegister)]\n",
    "\"\"\""
   ]
  },
  {
   "cell_type": "code",
   "execution_count": 74,
   "id": "7a7e8197",
   "metadata": {},
   "outputs": [
    {
     "data": {
      "text/plain": [
       "False"
      ]
     },
     "execution_count": 74,
     "metadata": {},
     "output_type": "execute_result"
    }
   ],
   "source": [
    "roadRegister0 = [[False, True,  False, False],\n",
    "                [False, False, True,  False],\n",
    "                [True,  False, False, True ],\n",
    "                [False, False, True,  False]]\n",
    "roadRegister = [[False,True,False],\n",
    "                [False,False,False],\n",
    "                [True,False,False]]\n",
    "newRoadSystem(roadRegister)"
   ]
  },
  {
   "cell_type": "markdown",
   "id": "78ce7c3d",
   "metadata": {},
   "source": [
    "https://app.codesignal.com/arcade/graphs-arcade/kingdom-roads/CSzczQWdnYwmyEjvv"
   ]
  },
  {
   "cell_type": "code",
   "execution_count": 185,
   "id": "8ce25a74",
   "metadata": {},
   "outputs": [],
   "source": [
    "def roadsBuilding(cities, roads):\n",
    "    output = []\n",
    "    for i in range(0,cities):\n",
    "        for j in range(i+1, cities):\n",
    "            if [i,j] not in roads and [j,i] not in roads:\n",
    "                    output.append([i,j])\n",
    "    return output"
   ]
  },
  {
   "cell_type": "code",
   "execution_count": 189,
   "id": "1ca75a9d",
   "metadata": {},
   "outputs": [],
   "source": [
    "def roadsBuilding(cities, roads):    \n",
    "    roads = [sorted(road) for road in roads]   \n",
    "    return [[i,j] for i in range(0,cities) \n",
    "            for j in range(i+1, cities) \n",
    "            if [i,j] not in roads]     "
   ]
  },
  {
   "cell_type": "code",
   "execution_count": 193,
   "id": "244bb8df",
   "metadata": {},
   "outputs": [],
   "source": [
    "def roadsBuilding(cities, roads): \n",
    "    set_roads = set([])\n",
    "    for road in roads:\n",
    "        set_roads-add(sorted(road))\n",
    "    return [[i,j] for i in range(0,cities) \n",
    "            for j in range(i+1, cities) \n",
    "            if [i,j] not in set_roads]     "
   ]
  },
  {
   "cell_type": "code",
   "execution_count": 194,
   "id": "52331cea",
   "metadata": {},
   "outputs": [
    {
     "ename": "TypeError",
     "evalue": "unhashable type: 'list'",
     "output_type": "error",
     "traceback": [
      "\u001b[0;31m---------------------------------------------------------------------------\u001b[0m",
      "\u001b[0;31mTypeError\u001b[0m                                 Traceback (most recent call last)",
      "\u001b[0;32m<ipython-input-194-25a366a5ebb6>\u001b[0m in \u001b[0;36m<module>\u001b[0;34m\u001b[0m\n\u001b[1;32m      3\u001b[0m \u001b[0;32mfrom\u001b[0m \u001b[0mtime\u001b[0m \u001b[0;32mimport\u001b[0m \u001b[0mtime\u001b[0m\u001b[0;34m\u001b[0m\u001b[0;34m\u001b[0m\u001b[0m\n\u001b[1;32m      4\u001b[0m \u001b[0mstart_time\u001b[0m \u001b[0;34m=\u001b[0m \u001b[0mtime\u001b[0m\u001b[0;34m(\u001b[0m\u001b[0;34m)\u001b[0m\u001b[0;34m\u001b[0m\u001b[0;34m\u001b[0m\u001b[0m\n\u001b[0;32m----> 5\u001b[0;31m \u001b[0mroadsBuilding\u001b[0m\u001b[0;34m(\u001b[0m\u001b[0mcities\u001b[0m\u001b[0;34m,\u001b[0m \u001b[0mroads\u001b[0m\u001b[0;34m)\u001b[0m\u001b[0;34m\u001b[0m\u001b[0;34m\u001b[0m\u001b[0m\n\u001b[0m\u001b[1;32m      6\u001b[0m \u001b[0melapsed_time\u001b[0m \u001b[0;34m=\u001b[0m \u001b[0mtime\u001b[0m\u001b[0;34m(\u001b[0m\u001b[0;34m)\u001b[0m \u001b[0;34m-\u001b[0m \u001b[0mstart_time\u001b[0m\u001b[0;34m\u001b[0m\u001b[0;34m\u001b[0m\u001b[0m\n\u001b[1;32m      7\u001b[0m \u001b[0mprint\u001b[0m\u001b[0;34m(\u001b[0m\u001b[0;34m\"Elapsed time: %0.10f seconds.\"\u001b[0m \u001b[0;34m%\u001b[0m \u001b[0melapsed_time\u001b[0m\u001b[0;34m)\u001b[0m\u001b[0;34m\u001b[0m\u001b[0;34m\u001b[0m\u001b[0m\n",
      "\u001b[0;32m<ipython-input-193-44f15a799002>\u001b[0m in \u001b[0;36mroadsBuilding\u001b[0;34m(cities, roads)\u001b[0m\n\u001b[1;32m      1\u001b[0m \u001b[0;32mdef\u001b[0m \u001b[0mroadsBuilding\u001b[0m\u001b[0;34m(\u001b[0m\u001b[0mcities\u001b[0m\u001b[0;34m,\u001b[0m \u001b[0mroads\u001b[0m\u001b[0;34m)\u001b[0m\u001b[0;34m:\u001b[0m\u001b[0;34m\u001b[0m\u001b[0;34m\u001b[0m\u001b[0m\n\u001b[0;32m----> 2\u001b[0;31m     \u001b[0mroadsc\u001b[0m \u001b[0;34m=\u001b[0m \u001b[0mset\u001b[0m\u001b[0;34m(\u001b[0m\u001b[0;34m[\u001b[0m\u001b[0msorted\u001b[0m\u001b[0;34m(\u001b[0m\u001b[0mroad\u001b[0m\u001b[0;34m)\u001b[0m \u001b[0;32mfor\u001b[0m \u001b[0mroad\u001b[0m \u001b[0;32min\u001b[0m \u001b[0mroads\u001b[0m\u001b[0;34m]\u001b[0m\u001b[0;34m)\u001b[0m\u001b[0;34m\u001b[0m\u001b[0;34m\u001b[0m\u001b[0m\n\u001b[0m\u001b[1;32m      3\u001b[0m     return [[i,j] for i in range(0,cities) \n\u001b[1;32m      4\u001b[0m             \u001b[0;32mfor\u001b[0m \u001b[0mj\u001b[0m \u001b[0;32min\u001b[0m \u001b[0mrange\u001b[0m\u001b[0;34m(\u001b[0m\u001b[0mi\u001b[0m\u001b[0;34m+\u001b[0m\u001b[0;36m1\u001b[0m\u001b[0;34m,\u001b[0m \u001b[0mcities\u001b[0m\u001b[0;34m)\u001b[0m\u001b[0;34m\u001b[0m\u001b[0;34m\u001b[0m\u001b[0m\n\u001b[1;32m      5\u001b[0m             if [i,j] not in roads]     \n",
      "\u001b[0;31mTypeError\u001b[0m: unhashable type: 'list'"
     ]
    }
   ],
   "source": [
    "cities = 5000\n",
    "roads = [[0, 1], [1, 2], [2, 0]]\n",
    "from time import time\n",
    "start_time = time()\n",
    "roadsBuilding(cities, roads)\n",
    "elapsed_time = time() - start_time\n",
    "print(\"Elapsed time: %0.10f seconds.\" % elapsed_time)\n",
    "#[[0, 3], [1, 3], [2, 3]]"
   ]
  },
  {
   "cell_type": "code",
   "execution_count": 187,
   "id": "10cdd0b8",
   "metadata": {},
   "outputs": [
    {
     "ename": "SyntaxError",
     "evalue": "invalid syntax (<ipython-input-187-f448a8be190e>, line 1)",
     "output_type": "error",
     "traceback": [
      "\u001b[0;36m  File \u001b[0;32m\"<ipython-input-187-f448a8be190e>\"\u001b[0;36m, line \u001b[0;32m1\u001b[0m\n\u001b[0;31m    Elapsed time: 0.0811264515 seconds.\u001b[0m\n\u001b[0m            ^\u001b[0m\n\u001b[0;31mSyntaxError\u001b[0m\u001b[0;31m:\u001b[0m invalid syntax\n"
     ]
    }
   ],
   "source": [
    "Elapsed time: 0.0811264515 seconds."
   ]
  },
  {
   "cell_type": "code",
   "execution_count": null,
   "id": "9156564e",
   "metadata": {},
   "outputs": [],
   "source": []
  },
  {
   "cell_type": "code",
   "execution_count": null,
   "id": "96f079be",
   "metadata": {},
   "outputs": [],
   "source": []
  }
 ],
 "metadata": {
  "kernelspec": {
   "display_name": "Python 3",
   "language": "python",
   "name": "python3"
  },
  "language_info": {
   "codemirror_mode": {
    "name": "ipython",
    "version": 3
   },
   "file_extension": ".py",
   "mimetype": "text/x-python",
   "name": "python",
   "nbconvert_exporter": "python",
   "pygments_lexer": "ipython3",
   "version": "3.8.10"
  }
 },
 "nbformat": 4,
 "nbformat_minor": 5
}
