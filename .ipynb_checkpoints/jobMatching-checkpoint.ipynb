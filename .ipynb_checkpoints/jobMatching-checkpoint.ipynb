{
 "cells": [
  {
   "cell_type": "markdown",
   "id": "db161ac6",
   "metadata": {},
   "source": [
    "Hay algunas oportunidades de trabajo en una empresa. Y hay algunos candidatos para estos trabajos. El candidato puede ser contratado para un trabajo si tiene todas las habilidades que se necesitan para este trabajo. Hay algunas habilidades distintas que pueden ser necesarias para los puestos de trabajo. La empresa sólo necesita una persona para cada puesto de trabajo. Además, cada candidato sólo puede ser contratado para un puesto de trabajo y el beneficio de contratar a alguien para el i-ésimo puesto es el beneficio[i]. El beneficio de la contratación para el conjunto de puestos de trabajo es igual a la suma de los beneficios de cada puesto de trabajo en el conjunto. Para el conjunto vacío es 0.\n",
    "\n",
    "Tu tarea es calcular el beneficio máximo después de contratar a un subconjunto de candidatos para un subconjunto de puestos de trabajo."
   ]
  },
  {
   "cell_type": "markdown",
   "id": "875917ca",
   "metadata": {},
   "source": [
    "Example\n",
    "\n",
    "* For profits = [4, 10], skillsForJobs = [[true, false], [false, true]], and skillsOfCandidates = [[true, true], [true, false]], the output should be\n",
    "jobMatching(profits, skillsForJobs, skillsOfCandidates) = 14;\n",
    "\n",
    "* For profits = [5], skillsForJobs = [[true]], and skillsOfCandidates = [[true]], the output should be\n",
    "jobMatching(profits, skillsForJobs, skillsOfCandidates) = 5."
   ]
  },
  {
   "cell_type": "code",
   "execution_count": 93,
   "id": "e6a90917",
   "metadata": {},
   "outputs": [],
   "source": [
    "def jobMatching(profits, skillsForJobs, skillsOfCandidates):  \n",
    "    \n",
    "    if (1 > len(profits)) or (len(profits) >= 50):  \n",
    "        return -1\n",
    "    \n",
    "    resultado = []\n",
    "    \n",
    "    for i in range (len(profits)):\n",
    "        \n",
    "        if (0 >= profits[i]) or (profits[i] >= 10^6):\n",
    "            return -1\n",
    "        \n",
    "        for skill in skillsForJobs:\n",
    "            \n",
    "            if skill[i] == True:\n",
    "                skill[i] = profits[i]\n",
    "            else:\n",
    "                skill[i]=0\n",
    "            resultado.append(skill)\n",
    "        resultado = resultado[:len(profits)]\n",
    "        \n",
    "    print (resultado)\n",
    "    res = 0   \n",
    "    for i in range (len(resultado)):\n",
    "        print(i)\n",
    "        for j in range(len(skillsOfCandidates)): \n",
    "            print(str(i) + \"  \" str(j))\n",
    "            if skillsOfCandidates[i][j] == True:               \n",
    "                res = res + resultado[i][j]\n",
    "            \n",
    "               \n",
    "        \n",
    "       \n",
    "    return res\n",
    "        \n",
    "    "
   ]
  },
  {
   "cell_type": "code",
   "execution_count": 94,
   "id": "4c865cb6",
   "metadata": {},
   "outputs": [
    {
     "name": "stdout",
     "output_type": "stream",
     "text": [
      "[[4, 0], [0, 10]]\n",
      "0\n",
      "0\n",
      "1\n",
      "1\n",
      "0\n",
      "1\n",
      "4\n"
     ]
    }
   ],
   "source": [
    "profits = [4, 10]\n",
    "skillsForJobs = [[True, False], [False, True]]\n",
    "skillsOfCandidates = [[True, True], [True, False]]\n",
    "print(jobMatching(profits, skillsForJobs, skillsOfCandidates)) # 14"
   ]
  },
  {
   "cell_type": "code",
   "execution_count": 88,
   "id": "bdb78d76",
   "metadata": {},
   "outputs": [
    {
     "name": "stdout",
     "output_type": "stream",
     "text": [
      "[[5]]\n",
      "5\n"
     ]
    },
    {
     "data": {
      "text/plain": [
       "5"
      ]
     },
     "execution_count": 88,
     "metadata": {},
     "output_type": "execute_result"
    }
   ],
   "source": [
    "profits = [5]\n",
    "skillsForJobs = [[True]]\n",
    "skillsOfCandidates = [[True]]\n",
    "jobMatching(profits, skillsForJobs, skillsOfCandidates)     # 5."
   ]
  },
  {
   "cell_type": "code",
   "execution_count": null,
   "id": "c624c873",
   "metadata": {},
   "outputs": [],
   "source": []
  }
 ],
 "metadata": {
  "kernelspec": {
   "display_name": "Python 3",
   "language": "python",
   "name": "python3"
  },
  "language_info": {
   "codemirror_mode": {
    "name": "ipython",
    "version": 3
   },
   "file_extension": ".py",
   "mimetype": "text/x-python",
   "name": "python",
   "nbconvert_exporter": "python",
   "pygments_lexer": "ipython3",
   "version": "3.8.10"
  }
 },
 "nbformat": 4,
 "nbformat_minor": 5
}
