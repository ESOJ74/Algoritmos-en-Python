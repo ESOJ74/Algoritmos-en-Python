{
 "cells": [
  {
   "cell_type": "markdown",
   "id": "f65f27b1",
   "metadata": {},
   "source": [
    "https://app.codesignal.com/arcade/graphs-arcade/kingdom-roads"
   ]
  },
  {
   "cell_type": "code",
   "execution_count": 73,
   "id": "492e4775",
   "metadata": {},
   "outputs": [
    {
     "data": {
      "text/plain": [
       "'\\ndef newRoadSystem(roadRegister):\\n    return [l.count(True) for l in roadRegister] == [l.count(True) for l in zip(*roadRegister)]\\n'"
      ]
     },
     "execution_count": 73,
     "metadata": {},
     "output_type": "execute_result"
    }
   ],
   "source": [
    "import pandas as pd\n",
    "def newRoadSystem(roadRegister):\n",
    "    df = pd.DataFrame(roadRegister)\n",
    "    for i in range(len(df[0])):\n",
    "        if (sum(df.loc[i]) != sum(df[i])):\n",
    "            return False\n",
    "    return True\n",
    "\n",
    "\"\"\"\n",
    "def newRoadSystem(roadRegister):\n",
    "    for x, y in zip(map(sum, roadRegister), map(sum, zip(*roadRegister))):\n",
    "        if x != y:\n",
    "            return False\n",
    "    return True\n",
    "\"\"\"\n",
    "\n",
    "\"\"\"\n",
    "def newRoadSystem(roadRegister):\n",
    "    return [l.count(True) for l in roadRegister] == [l.count(True) for l in zip(*roadRegister)]\n",
    "\"\"\""
   ]
  },
  {
   "cell_type": "code",
   "execution_count": 74,
   "id": "f8646cca",
   "metadata": {},
   "outputs": [
    {
     "data": {
      "text/plain": [
       "False"
      ]
     },
     "execution_count": 74,
     "metadata": {},
     "output_type": "execute_result"
    }
   ],
   "source": [
    "roadRegister0 = [[False, True,  False, False],\n",
    "                [False, False, True,  False],\n",
    "                [True,  False, False, True ],\n",
    "                [False, False, True,  False]]\n",
    "roadRegister = [[False,True,False],\n",
    "                [False,False,False],\n",
    "                [True,False,False]]\n",
    "newRoadSystem(roadRegister)"
   ]
  },
  {
   "cell_type": "markdown",
   "id": "83532e3d",
   "metadata": {},
   "source": [
    "https://app.codesignal.com/arcade/graphs-arcade/kingdom-roads/CSzczQWdnYwmyEjvv"
   ]
  },
  {
   "cell_type": "code",
   "execution_count": 270,
   "id": "f8a139b4",
   "metadata": {},
   "outputs": [],
   "source": [
    "def roadsBuilding(cities, roads):\n",
    "    output = []\n",
    "    for i in range(0,cities):\n",
    "        for j in range(i+1, cities):\n",
    "            if [i,j] not in roads and [j,i] not in roads:\n",
    "                    output.append([i,j])\n",
    "    return output"
   ]
  },
  {
   "cell_type": "code",
   "execution_count": 268,
   "id": "e57c9fc6",
   "metadata": {},
   "outputs": [],
   "source": [
    "def roadsBuilding(cities, roads):    \n",
    "    roads = [sorted(road) for road in roads]   \n",
    "    return [[i,j] for i in range(0,cities) \n",
    "            for j in range(i+1, cities) \n",
    "            if [i,j] not in roads]     "
   ]
  },
  {
   "cell_type": "code",
   "execution_count": 273,
   "id": "12a86b99",
   "metadata": {},
   "outputs": [
    {
     "name": "stdout",
     "output_type": "stream",
     "text": [
      "[[0, 3], [0, 4], [1, 3], [1, 4], [2, 3], [2, 4], [3, 4]]\n"
     ]
    }
   ],
   "source": [
    "cities = 4\n",
    "roads = [[0, 1], [1, 2], [2, 0]]\n",
    "print(roadsBuilding(cities, roads))\n",
    "#[[0, 3], [1, 3], [2, 3]]"
   ]
  },
  {
   "cell_type": "code",
   "execution_count": 220,
   "id": "5e6e3e71",
   "metadata": {},
   "outputs": [
    {
     "ename": "SyntaxError",
     "evalue": "invalid syntax (<ipython-input-220-f448a8be190e>, line 1)",
     "output_type": "error",
     "traceback": [
      "\u001b[0;36m  File \u001b[0;32m\"<ipython-input-220-f448a8be190e>\"\u001b[0;36m, line \u001b[0;32m1\u001b[0m\n\u001b[0;31m    Elapsed time: 0.0811264515 seconds.\u001b[0m\n\u001b[0m            ^\u001b[0m\n\u001b[0;31mSyntaxError\u001b[0m\u001b[0;31m:\u001b[0m invalid syntax\n"
     ]
    }
   ],
   "source": [
    "0.0027458668"
   ]
  },
  {
   "cell_type": "code",
   "execution_count": null,
   "id": "c5bfe87d",
   "metadata": {},
   "outputs": [],
   "source": [
    "\"dd\"."
   ]
  },
  {
   "cell_type": "code",
   "execution_count": null,
   "id": "b9bca466",
   "metadata": {},
   "outputs": [],
   "source": []
  }
 ],
 "metadata": {
  "kernelspec": {
   "display_name": "Python 3",
   "language": "python",
   "name": "python3"
  },
  "language_info": {
   "codemirror_mode": {
    "name": "ipython",
    "version": 3
   },
   "file_extension": ".py",
   "mimetype": "text/x-python",
   "name": "python",
   "nbconvert_exporter": "python",
   "pygments_lexer": "ipython3",
   "version": "3.8.10"
  }
 },
 "nbformat": 4,
 "nbformat_minor": 5
}
