{
 "cells": [
  {
   "cell_type": "code",
   "execution_count": 12,
   "id": "2d232cd2",
   "metadata": {},
   "outputs": [],
   "source": [
    "def firstDigit(inputString):\n",
    "    for digit in inputString:\n",
    "        try:\n",
    "            #print(digit)\n",
    "            return int(digit)\n",
    "        except:\n",
    "            pass\n",
    "    "
   ]
  },
  {
   "cell_type": "code",
   "execution_count": 13,
   "id": "42e19335",
   "metadata": {},
   "outputs": [
    {
     "name": "stdout",
     "output_type": "stream",
     "text": [
      "1\n"
     ]
    }
   ],
   "source": [
    "inputString = \"var_1__Int\"\n",
    "print(firstDigit(inputString) )"
   ]
  },
  {
   "cell_type": "code",
   "execution_count": null,
   "id": "9fbe5a9e",
   "metadata": {},
   "outputs": [],
   "source": [
    "def firstDigit(inputString):\n",
    "    for digit in inputString:\n",
    "        try:\n",
    "            return int(digit)\n",
    "        except:\n",
    "            break\n",
    "    return (digit)"
   ]
  }
 ],
 "metadata": {
  "kernelspec": {
   "display_name": "Python 3",
   "language": "python",
   "name": "python3"
  },
  "language_info": {
   "codemirror_mode": {
    "name": "ipython",
    "version": 3
   },
   "file_extension": ".py",
   "mimetype": "text/x-python",
   "name": "python",
   "nbconvert_exporter": "python",
   "pygments_lexer": "ipython3",
   "version": "3.8.10"
  }
 },
 "nbformat": 4,
 "nbformat_minor": 5
}
