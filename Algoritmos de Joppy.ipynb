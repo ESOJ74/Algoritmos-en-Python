{
 "cells": [
  {
   "cell_type": "markdown",
   "id": "49efdc94",
   "metadata": {},
   "source": [
    "## Run Length Encoding (RLE) Data Compression Algorithm"
   ]
  },
  {
   "cell_type": "code",
   "execution_count": 49,
   "id": "5694b3c8",
   "metadata": {},
   "outputs": [],
   "source": [
    "def runLengthEncoding(inputString):\n",
    "    encoding = \"\" # stores output string \n",
    "    i = 0\n",
    "    while i < len(inputString):\n",
    "        # count occurrences of character at index `i`\n",
    "        count = 1 \n",
    "        while i + 1 < len(inputString) and inputString[i] == inputString[i + 1]:\n",
    "            count = count + 1\n",
    "            i = i + 1 \n",
    "        # append current character and its count to the result\n",
    "        encoding += str(count) + inputString[i]\n",
    "        i = i + 1 \n",
    "    return encoding        "
   ]
  },
  {
   "cell_type": "code",
   "execution_count": 50,
   "id": "b34bf69c",
   "metadata": {},
   "outputs": [
    {
     "data": {
      "text/plain": [
       "'1a2b4a1c'"
      ]
     },
     "execution_count": 50,
     "metadata": {},
     "output_type": "execute_result"
    }
   ],
   "source": [
    "runLengthEncoding(\"abbaaaac\")"
   ]
  },
  {
   "cell_type": "markdown",
   "id": "fea94bce",
   "metadata": {},
   "source": [
    "## Reverse the order of words in a given string sentence. You can assume that sentence does not have any leading, trailing or repeating spaces."
   ]
  },
  {
   "cell_type": "code",
   "execution_count": 54,
   "id": "8a110c26",
   "metadata": {},
   "outputs": [],
   "source": [
    "# Function to reverse each word in the string\n",
    "def reverse_word(s, start, end):\n",
    "    while start < end:\n",
    "        s[start], s[end] = s[end], s[start]\n",
    "        start = start + 1\n",
    "        end -= 1 \n",
    "\n",
    "def reverseSentence(sentence):\n",
    "    # Convert string to list to use it as a char array\n",
    "    s = list(sentence)\n",
    "    start = 0\n",
    "    while True:     \n",
    "        try:\n",
    "        # Find the next space\n",
    "            end = s.index(' ', start)\n",
    "            reverse_word(s, start, end - 1)\n",
    "            start = end + 1 \n",
    "        except ValueError: \n",
    "        # Reverse the last word\n",
    "            reverse_word(s, start, len(s) - 1)\n",
    "            break \n",
    "    # Reverse the entire list\n",
    "    s.reverse()\n",
    "    return \"\".join(s)"
   ]
  },
  {
   "cell_type": "code",
   "execution_count": 55,
   "id": "03649409",
   "metadata": {},
   "outputs": [
    {
     "name": "stdout",
     "output_type": "stream",
     "text": [
      "dog bites Man\n"
     ]
    }
   ],
   "source": [
    "print(reverseSentence(\"Man bites dog\"))"
   ]
  },
  {
   "cell_type": "code",
   "execution_count": null,
   "id": "bb8d61d8",
   "metadata": {},
   "outputs": [],
   "source": []
  }
 ],
 "metadata": {
  "kernelspec": {
   "display_name": "Python 3",
   "language": "python",
   "name": "python3"
  },
  "language_info": {
   "codemirror_mode": {
    "name": "ipython",
    "version": 3
   },
   "file_extension": ".py",
   "mimetype": "text/x-python",
   "name": "python",
   "nbconvert_exporter": "python",
   "pygments_lexer": "ipython3",
   "version": "3.8.10"
  }
 },
 "nbformat": 4,
 "nbformat_minor": 5
}
