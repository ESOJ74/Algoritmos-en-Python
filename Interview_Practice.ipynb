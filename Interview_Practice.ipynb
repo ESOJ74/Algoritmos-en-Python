{
 "cells": [
  {
   "cell_type": "code",
   "execution_count": 22,
   "id": "61ac1944",
   "metadata": {},
   "outputs": [],
   "source": [
    "def firstDuplicate(a):\n",
    "    \n",
    "    duplicados = set()\n",
    "    \n",
    "    for numero in a:\n",
    "        if numero not in duplicados:            \n",
    "            duplicados.add(numero)\n",
    "        else:\n",
    "            return numero\n",
    "    \n",
    "    return -1"
   ]
  },
  {
   "cell_type": "code",
   "execution_count": 23,
   "id": "04c35e96",
   "metadata": {},
   "outputs": [
    {
     "name": "stdout",
     "output_type": "stream",
     "text": [
      "3\n"
     ]
    }
   ],
   "source": [
    "a = [2, 1, 3, 5, 3, 2]\n",
    "#a = [2,1]\n",
    "print(firstDuplicate(a))   "
   ]
  },
  {
   "cell_type": "code",
   "execution_count": 41,
   "id": "163cf627",
   "metadata": {},
   "outputs": [],
   "source": [
    "def firstNotRepeatingCharacter(s):\n",
    "    for c in s:\n",
    "        if s.index(c) == s.rindex(c):   \n",
    "            return c\n",
    "    return '_'"
   ]
  },
  {
   "cell_type": "code",
   "execution_count": 42,
   "id": "0af02483",
   "metadata": {},
   "outputs": [
    {
     "name": "stdout",
     "output_type": "stream",
     "text": [
      "c\n"
     ]
    }
   ],
   "source": [
    "s = \"abacabad\"\n",
    "print(firstNotRepeatingCharacter(s) )"
   ]
  },
  {
   "cell_type": "code",
   "execution_count": 1,
   "id": "8eab92e0",
   "metadata": {},
   "outputs": [],
   "source": [
    "def rotateImage(a):\n",
    "    return zip(*a[::-1])"
   ]
  },
  {
   "cell_type": "code",
   "execution_count": 4,
   "id": "c8c82e28",
   "metadata": {},
   "outputs": [
    {
     "name": "stdout",
     "output_type": "stream",
     "text": [
      "[(7, 4, 1), (8, 5, 2), (9, 6, 3)]\n"
     ]
    }
   ],
   "source": [
    "a = [[1, 2, 3],\n",
    "     [4, 5, 6],\n",
    "     [7, 8, 9]]\n",
    "print(list(rotateImage(a)))\n"
   ]
  },
  {
   "cell_type": "code",
   "execution_count": 6,
   "id": "70ca72c1",
   "metadata": {},
   "outputs": [],
   "source": [
    "def check_unique(nums):\n",
    "    s = set()\n",
    "    for num in nums:\n",
    "        if num == '.':\n",
    "            continue \n",
    "            \n",
    "        if num in s:\n",
    "            return False\n",
    "        s.add(num)\n",
    "    return True\n",
    "        \n",
    "\n",
    "def sudoku2(grid):\n",
    "    for line in grid:\n",
    "        if not check_unique(line):\n",
    "            return False\n",
    "    \n",
    "    for i in range(9):\n",
    "        if not check_unique([line[i] for line in grid]):\n",
    "            return False\n",
    "        \n",
    "    for i in range(0,9,3):\n",
    "        for j in range(0, 9, 3):\n",
    "            if not check_unique(grid[i][j:j+3] + grid[i+1][j:j+3] + grid[i+2][j:j+3]):\n",
    "                return False\n",
    "            \n",
    "    return True"
   ]
  },
  {
   "cell_type": "code",
   "execution_count": 7,
   "id": "ac068acf",
   "metadata": {},
   "outputs": [
    {
     "name": "stdout",
     "output_type": "stream",
     "text": [
      "True\n",
      "False\n"
     ]
    }
   ],
   "source": [
    "grid = [['.', '.', '.', '1', '4', '.', '.', '2', '.'],\n",
    "        ['.', '.', '6', '.', '.', '.', '.', '.', '.'],\n",
    "        ['.', '.', '.', '.', '.', '.', '.', '.', '.'],\n",
    "        ['.', '.', '1', '.', '.', '.', '.', '.', '.'],\n",
    "        ['.', '6', '7', '.', '.', '.', '.', '.', '9'],\n",
    "        ['.', '.', '.', '.', '.', '.', '8', '1', '.'],\n",
    "        ['.', '3', '.', '.', '.', '.', '.', '.', '6'],\n",
    "        ['.', '.', '.', '.', '.', '7', '.', '.', '.'],\n",
    "        ['.', '.', '.', '5', '.', '.', '.', '7', '.']]\n",
    "print(sudoku2(grid))\n",
    "grid = [['.', '.', '.', '.', '2', '.', '.', '9', '.'],\n",
    "        ['.', '.', '.', '.', '6', '.', '.', '.', '.'],\n",
    "        ['7', '1', '.', '.', '7', '5', '.', '.', '.'],\n",
    "        ['.', '7', '.', '.', '.', '.', '.', '.', '.'],\n",
    "        ['.', '.', '.', '.', '8', '3', '.', '.', '.'],\n",
    "        ['.', '.', '8', '.', '.', '7', '.', '6', '.'],\n",
    "        ['.', '.', '.', '.', '.', '2', '.', '.', '.'],\n",
    "        ['.', '1', '.', '2', '.', '.', '.', '.', '.'],\n",
    "        ['.', '2', '.', '.', '3', '.', '.', '.', '.']]\n",
    "print(sudoku2(grid))"
   ]
  },
  {
   "cell_type": "code",
   "execution_count": 9,
   "id": "033ed006",
   "metadata": {},
   "outputs": [],
   "source": [
    "def isCryptSolution(crypt, solution):\n",
    "    dic = {ord(c): d for c, d in solution}\n",
    "    *v, = map(lambda x: x.translate(dic), crypt)\n",
    "    return not any(x != \"0\" and x.startswith(\"0\") for x in v) and \\\n",
    "        int(v[0]) + int(v[1]) == int(v[2])"
   ]
  },
  {
   "cell_type": "code",
   "execution_count": 10,
   "id": "5a63ae0f",
   "metadata": {},
   "outputs": [
    {
     "name": "stdout",
     "output_type": "stream",
     "text": [
      "True\n"
     ]
    }
   ],
   "source": [
    "crypt = [\"SEND\", \"MORE\", \"MONEY\"]\n",
    "solution = [['O', '0'],\n",
    "            ['M', '1'],\n",
    "            ['Y', '2'],\n",
    "            ['E', '5'],\n",
    "            ['N', '6'],\n",
    "            ['D', '7'],\n",
    "            ['R', '8'],\n",
    "            ['S', '9']]\n",
    "print(isCryptSolution(crypt, solution))"
   ]
  },
  {
   "cell_type": "code",
   "execution_count": null,
   "id": "3707fbea",
   "metadata": {},
   "outputs": [],
   "source": []
  }
 ],
 "metadata": {
  "kernelspec": {
   "display_name": "Python 3",
   "language": "python",
   "name": "python3"
  },
  "language_info": {
   "codemirror_mode": {
    "name": "ipython",
    "version": 3
   },
   "file_extension": ".py",
   "mimetype": "text/x-python",
   "name": "python",
   "nbconvert_exporter": "python",
   "pygments_lexer": "ipython3",
   "version": "3.8.10"
  }
 },
 "nbformat": 4,
 "nbformat_minor": 5
}
